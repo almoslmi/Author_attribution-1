{
 "cells": [
  {
   "cell_type": "code",
   "execution_count": 1,
   "metadata": {
    "scrolled": true
   },
   "outputs": [
    {
     "name": "stdout",
     "output_type": "stream",
     "text": [
      "['anu', 'Surendra Mahara', 'prabhakar']\n",
      "['kiran sahu', 'Rajesh Yadav', 'manjeet']\n",
      "['Gopal Mishra', 'manjeet', 'ravish kumar']\n",
      "['Author4', 'pooja', 'Surendra Mahara']\n",
      "['manjeet', 'Virat Choudhary', 'anu']\n",
      "['prabhakar', 'shekhawat', 'manjeet']\n",
      "['kiran sahu', 'Surendra Mahara', 'Khushdeep']\n",
      "['pooja', 'anu', 'Rajesh Yadav']\n",
      "['Sameer', 'anu', 'shekhawat']\n",
      "['Sameer', 'kiran sahu', 'manjeet']\n",
      "['Khushdeep', 'Author4', 'Rajesh Yadav']\n",
      "['Gopal Mishra', 'Virat Choudhary', 'ravish kumar']\n",
      "['Surendra Mahara', 'Gopal Mishra', 'Virat Choudhary']\n",
      "['pooja', 'Rajesh Yadav', 'shekhawat']\n",
      "['Gopal Mishra', 'manjeet', 'Khushdeep']\n",
      "['manjeet', 'Virat Choudhary', 'prabhakar']\n",
      "['Surendra Mahara', 'Khushdeep', 'Author4']\n",
      "['anu', 'prabhakar', 'pooja']\n",
      "['shekhawat', 'manjeet', 'prabhakar']\n",
      "['anu', 'Rajesh Yadav', 'kiran sahu']\n",
      "['Gopal Mishra', 'Sameer', 'Virat Choudhary', 'manjeet']\n",
      "['Author4', 'Sameer', 'pooja', 'Khushdeep']\n",
      "['shekhawat', 'prabhakar', 'ravish kumar', 'Khushdeep']\n",
      "['prabhakar', 'Gopal Mishra', 'kiran sahu', 'anu']\n",
      "['Virat Choudhary', 'prabhakar', 'Author4', 'kiran sahu']\n",
      "['Khushdeep', 'anu', 'manjeet', 'pooja']\n",
      "['Virat Choudhary', 'shekhawat', 'manjeet', 'Khushdeep']\n",
      "['Rajesh Yadav', 'pooja', 'manjeet', 'anu']\n",
      "['pooja', 'manjeet', 'Surendra Mahara', 'kiran sahu']\n",
      "['Surendra Mahara', 'ravish kumar', 'manjeet', 'Virat Choudhary']\n",
      "['prabhakar', 'Khushdeep', 'anu', 'manjeet']\n",
      "['Surendra Mahara', 'anu', 'shekhawat', 'Khushdeep']\n",
      "['Virat Choudhary', 'kiran sahu', 'Rajesh Yadav', 'Sameer']\n",
      "['Virat Choudhary', 'Khushdeep', 'Sameer', 'Rajesh Yadav']\n",
      "['Khushdeep', 'manjeet', 'pooja', 'anu']\n",
      "['ravish kumar', 'Virat Choudhary', 'anu', 'manjeet']\n",
      "['prabhakar', 'ravish kumar', 'Rajesh Yadav', 'shekhawat']\n",
      "['Sameer', 'Author4', 'anu', 'ravish kumar']\n",
      "['ravish kumar', 'manjeet', 'kiran sahu', 'pooja']\n",
      "['Gopal Mishra', 'manjeet', 'Virat Choudhary', 'anu']\n",
      "['Surendra Mahara', 'prabhakar', 'pooja', 'Khushdeep', 'manjeet']\n",
      "['Author4', 'pooja', 'Surendra Mahara', 'Rajesh Yadav', 'Virat Choudhary']\n",
      "['manjeet', 'Sameer', 'Surendra Mahara', 'prabhakar', 'Author4']\n",
      "['kiran sahu', 'prabhakar', 'Khushdeep', 'Virat Choudhary', 'shekhawat']\n",
      "['manjeet', 'Gopal Mishra', 'kiran sahu', 'Rajesh Yadav', 'prabhakar']\n",
      "['anu', 'Rajesh Yadav', 'Virat Choudhary', 'Surendra Mahara', 'prabhakar']\n",
      "['Rajesh Yadav', 'prabhakar', 'manjeet', 'kiran sahu', 'Gopal Mishra']\n",
      "['Author4', 'Virat Choudhary', 'Rajesh Yadav', 'pooja', 'shekhawat']\n",
      "['ravish kumar', 'manjeet', 'kiran sahu', 'anu', 'Sameer']\n",
      "['shekhawat', 'Virat Choudhary', 'Rajesh Yadav', 'Author4', 'manjeet']\n",
      "['Surendra Mahara', 'Sameer', 'Gopal Mishra', 'Author4', 'shekhawat']\n",
      "['Khushdeep', 'prabhakar', 'Virat Choudhary', 'pooja', 'anu']\n",
      "['shekhawat', 'Gopal Mishra', 'manjeet', 'Surendra Mahara', 'prabhakar']\n",
      "['Gopal Mishra', 'Virat Choudhary', 'Sameer', 'anu', 'Surendra Mahara']\n",
      "['Surendra Mahara', 'Khushdeep', 'anu', 'ravish kumar', 'Gopal Mishra']\n",
      "['ravish kumar', 'Surendra Mahara', 'manjeet', 'prabhakar', 'kiran sahu']\n",
      "['Khushdeep', 'shekhawat', 'manjeet', 'pooja', 'anu']\n",
      "['ravish kumar', 'shekhawat', 'Author4', 'manjeet', 'kiran sahu']\n",
      "['pooja', 'Surendra Mahara', 'Khushdeep', 'anu', 'manjeet']\n",
      "['Gopal Mishra', 'Khushdeep', 'Rajesh Yadav', 'pooja', 'Sameer']\n",
      "['Sameer', 'ravish kumar', 'anu', 'Author4', 'Virat Choudhary', 'Khushdeep']\n",
      "['Surendra Mahara', 'Rajesh Yadav', 'Author4', 'Gopal Mishra', 'kiran sahu', 'manjeet']\n",
      "['manjeet', 'ravish kumar', 'Khushdeep', 'kiran sahu', 'Surendra Mahara', 'Gopal Mishra']\n",
      "['prabhakar', 'Khushdeep', 'ravish kumar', 'kiran sahu', 'anu', 'Rajesh Yadav']\n",
      "['kiran sahu', 'Gopal Mishra', 'prabhakar', 'Rajesh Yadav', 'anu', 'Sameer']\n",
      "['manjeet', 'anu', 'Surendra Mahara', 'ravish kumar', 'Virat Choudhary', 'Rajesh Yadav']\n",
      "['manjeet', 'prabhakar', 'Rajesh Yadav', 'kiran sahu', 'ravish kumar', 'Gopal Mishra']\n",
      "['Rajesh Yadav', 'anu', 'Gopal Mishra', 'Surendra Mahara', 'shekhawat', 'pooja']\n",
      "['Surendra Mahara', 'prabhakar', 'Sameer', 'Rajesh Yadav', 'anu', 'Author4']\n",
      "['pooja', 'anu', 'Sameer', 'Gopal Mishra', 'Virat Choudhary', 'Author4']\n",
      "['Rajesh Yadav', 'Khushdeep', 'Gopal Mishra', 'prabhakar', 'Sameer', 'anu']\n",
      "['manjeet', 'Khushdeep', 'ravish kumar', 'Sameer', 'Surendra Mahara', 'prabhakar']\n",
      "['Sameer', 'kiran sahu', 'shekhawat', 'Author4', 'Virat Choudhary', 'prabhakar']\n",
      "['Author4', 'Sameer', 'Gopal Mishra', 'anu', 'Khushdeep', 'Surendra Mahara']\n",
      "['ravish kumar', 'Virat Choudhary', 'manjeet', 'Surendra Mahara', 'shekhawat', 'prabhakar']\n",
      "['shekhawat', 'Sameer', 'Virat Choudhary', 'manjeet', 'Khushdeep', 'prabhakar']\n",
      "['anu', 'Gopal Mishra', 'Virat Choudhary', 'shekhawat', 'Author4', 'Rajesh Yadav']\n",
      "['prabhakar', 'Gopal Mishra', 'kiran sahu', 'Virat Choudhary', 'shekhawat', 'Author4']\n",
      "['Sameer', 'Rajesh Yadav', 'Virat Choudhary', 'manjeet', 'anu', 'Author4']\n",
      "['anu', 'ravish kumar', 'Gopal Mishra', 'manjeet', 'prabhakar', 'Virat Choudhary']\n",
      "['kiran sahu', 'prabhakar', 'pooja', 'Surendra Mahara', 'Virat Choudhary', 'Khushdeep', 'shekhawat']\n",
      "['Rajesh Yadav', 'shekhawat', 'Virat Choudhary', 'Gopal Mishra', 'anu', 'manjeet', 'Surendra Mahara']\n",
      "['Sameer', 'anu', 'Gopal Mishra', 'Khushdeep', 'kiran sahu', 'Author4', 'Virat Choudhary']\n",
      "['ravish kumar', 'anu', 'Sameer', 'Virat Choudhary', 'Surendra Mahara', 'pooja', 'prabhakar']\n",
      "['Author4', 'shekhawat', 'prabhakar', 'Gopal Mishra', 'pooja', 'Virat Choudhary', 'anu']\n",
      "['anu', 'prabhakar', 'Gopal Mishra', 'shekhawat', 'Sameer', 'Khushdeep', 'Rajesh Yadav']\n",
      "['Author4', 'Surendra Mahara', 'pooja', 'kiran sahu', 'Gopal Mishra', 'Sameer', 'ravish kumar']\n",
      "['Virat Choudhary', 'Gopal Mishra', 'Author4', 'ravish kumar', 'Khushdeep', 'manjeet', 'kiran sahu']\n",
      "['shekhawat', 'Sameer', 'kiran sahu', 'Rajesh Yadav', 'manjeet', 'Virat Choudhary', 'Author4']\n",
      "['manjeet', 'Virat Choudhary', 'Surendra Mahara', 'anu', 'Rajesh Yadav', 'ravish kumar', 'pooja']\n",
      "['Surendra Mahara', 'Author4', 'Rajesh Yadav', 'Khushdeep', 'pooja', 'Gopal Mishra', 'anu']\n",
      "['ravish kumar', 'prabhakar', 'kiran sahu', 'shekhawat', 'Rajesh Yadav', 'Virat Choudhary', 'Gopal Mishra']\n",
      "['Author4', 'Sameer', 'kiran sahu', 'Rajesh Yadav', 'anu', 'Virat Choudhary', 'shekhawat']\n",
      "['kiran sahu', 'pooja', 'manjeet', 'Rajesh Yadav', 'Sameer', 'prabhakar', 'shekhawat']\n",
      "['Surendra Mahara', 'prabhakar', 'shekhawat', 'manjeet', 'Author4', 'Sameer', 'ravish kumar']\n",
      "['manjeet', 'Sameer', 'pooja', 'Surendra Mahara', 'kiran sahu', 'shekhawat', 'anu']\n",
      "['Virat Choudhary', 'Rajesh Yadav', 'kiran sahu', 'Sameer', 'Gopal Mishra', 'ravish kumar', 'Surendra Mahara']\n",
      "['manjeet', 'Sameer', 'Virat Choudhary', 'Author4', 'shekhawat', 'Khushdeep', 'Rajesh Yadav']\n",
      "['Virat Choudhary', 'shekhawat', 'Rajesh Yadav', 'Author4', 'pooja', 'Gopal Mishra', 'manjeet']\n",
      "['prabhakar', 'Virat Choudhary', 'Gopal Mishra', 'manjeet', 'Rajesh Yadav', 'Khushdeep', 'ravish kumar']\n",
      "['shekhawat', 'kiran sahu', 'anu', 'pooja', 'Rajesh Yadav', 'Sameer', 'manjeet', 'Author4']\n",
      "['kiran sahu', 'Khushdeep', 'Author4', 'Rajesh Yadav', 'Surendra Mahara', 'Gopal Mishra', 'pooja', 'manjeet']\n",
      "['Gopal Mishra', 'ravish kumar', 'Virat Choudhary', 'prabhakar', 'Author4', 'Sameer', 'Rajesh Yadav', 'shekhawat']\n",
      "['Khushdeep', 'anu', 'shekhawat', 'Virat Choudhary', 'Rajesh Yadav', 'Author4', 'ravish kumar', 'Sameer']\n",
      "['prabhakar', 'pooja', 'Virat Choudhary', 'anu', 'kiran sahu', 'Khushdeep', 'shekhawat', 'Rajesh Yadav']\n",
      "['Sameer', 'shekhawat', 'Surendra Mahara', 'pooja', 'ravish kumar', 'manjeet', 'Rajesh Yadav', 'prabhakar']\n",
      "['pooja', 'Sameer', 'Surendra Mahara', 'shekhawat', 'Virat Choudhary', 'anu', 'ravish kumar', 'manjeet']\n",
      "['manjeet', 'Gopal Mishra', 'ravish kumar', 'Virat Choudhary', 'pooja', 'shekhawat', 'Author4', 'Surendra Mahara']\n",
      "['anu', 'Author4', 'manjeet', 'Rajesh Yadav', 'Sameer', 'Gopal Mishra', 'Khushdeep', 'pooja']\n",
      "['Virat Choudhary', 'prabhakar', 'pooja', 'shekhawat', 'Rajesh Yadav', 'Sameer', 'Author4', 'Surendra Mahara']\n",
      "['ravish kumar', 'Rajesh Yadav', 'anu', 'kiran sahu', 'Author4', 'Khushdeep', 'manjeet', 'prabhakar']\n",
      "['kiran sahu', 'anu', 'prabhakar', 'Virat Choudhary', 'shekhawat', 'Surendra Mahara', 'pooja', 'manjeet']\n",
      "['kiran sahu', 'Virat Choudhary', 'Sameer', 'ravish kumar', 'Surendra Mahara', 'shekhawat', 'pooja', 'Author4']\n",
      "['prabhakar', 'Rajesh Yadav', 'Khushdeep', 'Sameer', 'Virat Choudhary', 'pooja', 'manjeet', 'Gopal Mishra']\n"
     ]
    },
    {
     "name": "stdout",
     "output_type": "stream",
     "text": [
      "['ravish kumar', 'kiran sahu', 'Rajesh Yadav', 'Sameer', 'Surendra Mahara', 'manjeet', 'pooja', 'shekhawat']\n",
      "['shekhawat', 'pooja', 'Author4', 'Khushdeep', 'Surendra Mahara', 'Rajesh Yadav', 'ravish kumar', 'anu']\n",
      "['pooja', 'Sameer', 'prabhakar', 'shekhawat', 'Author4', 'ravish kumar', 'manjeet', 'Surendra Mahara']\n",
      "['Author4', 'anu', 'pooja', 'shekhawat', 'Gopal Mishra', 'Rajesh Yadav', 'Khushdeep', 'manjeet']\n",
      "['Khushdeep', 'manjeet', 'Surendra Mahara', 'Gopal Mishra', 'Virat Choudhary', 'shekhawat', 'prabhakar', 'Sameer']\n",
      "['Virat Choudhary', 'prabhakar', 'Surendra Mahara', 'anu', 'Rajesh Yadav', 'shekhawat', 'kiran sahu', 'Khushdeep']\n",
      "['Khushdeep', 'prabhakar', 'manjeet', 'ravish kumar', 'anu', 'Gopal Mishra', 'Virat Choudhary', 'pooja', 'Author4']\n",
      "['shekhawat', 'manjeet', 'Author4', 'Surendra Mahara', 'ravish kumar', 'prabhakar', 'Khushdeep', 'Virat Choudhary', 'Sameer']\n",
      "['Khushdeep', 'ravish kumar', 'Virat Choudhary', 'pooja', 'manjeet', 'Gopal Mishra', 'prabhakar', 'Sameer', 'anu']\n",
      "['pooja', 'Sameer', 'Rajesh Yadav', 'Virat Choudhary', 'ravish kumar', 'kiran sahu', 'Author4', 'shekhawat', 'Surendra Mahara']\n",
      "['Khushdeep', 'Rajesh Yadav', 'Sameer', 'manjeet', 'ravish kumar', 'Surendra Mahara', 'pooja', 'Author4', 'anu']\n",
      "['kiran sahu', 'Author4', 'Surendra Mahara', 'Virat Choudhary', 'ravish kumar', 'pooja', 'shekhawat', 'Rajesh Yadav', 'anu']\n",
      "['kiran sahu', 'Khushdeep', 'Gopal Mishra', 'ravish kumar', 'Rajesh Yadav', 'Surendra Mahara', 'pooja', 'Sameer', 'shekhawat']\n",
      "['prabhakar', 'anu', 'manjeet', 'Surendra Mahara', 'shekhawat', 'Gopal Mishra', 'Virat Choudhary', 'Sameer', 'Rajesh Yadav']\n",
      "['pooja', 'shekhawat', 'Virat Choudhary', 'Gopal Mishra', 'Rajesh Yadav', 'kiran sahu', 'anu', 'Surendra Mahara', 'prabhakar']\n",
      "['manjeet', 'Surendra Mahara', 'Rajesh Yadav', 'prabhakar', 'Virat Choudhary', 'Gopal Mishra', 'anu', 'Sameer', 'pooja']\n",
      "['shekhawat', 'Sameer', 'Gopal Mishra', 'pooja', 'ravish kumar', 'manjeet', 'Author4', 'kiran sahu', 'Rajesh Yadav']\n",
      "['Gopal Mishra', 'Khushdeep', 'pooja', 'prabhakar', 'anu', 'shekhawat', 'Virat Choudhary', 'Author4', 'Surendra Mahara']\n",
      "['prabhakar', 'pooja', 'shekhawat', 'manjeet', 'Virat Choudhary', 'Gopal Mishra', 'Sameer', 'Surendra Mahara', 'Author4']\n",
      "['pooja', 'Virat Choudhary', 'Author4', 'Surendra Mahara', 'Khushdeep', 'Rajesh Yadav', 'manjeet', 'ravish kumar', 'Gopal Mishra']\n",
      "['Rajesh Yadav', 'Virat Choudhary', 'Khushdeep', 'Gopal Mishra', 'Surendra Mahara', 'ravish kumar', 'pooja', 'shekhawat', 'anu']\n",
      "['Rajesh Yadav', 'anu', 'kiran sahu', 'Khushdeep', 'Surendra Mahara', 'Sameer', 'Virat Choudhary', 'manjeet', 'shekhawat']\n",
      "['anu', 'shekhawat', 'prabhakar', 'Surendra Mahara', 'kiran sahu', 'Virat Choudhary', 'Khushdeep', 'Gopal Mishra', 'ravish kumar']\n",
      "['Sameer', 'Surendra Mahara', 'Author4', 'prabhakar', 'Rajesh Yadav', 'Gopal Mishra', 'kiran sahu', 'shekhawat', 'ravish kumar']\n",
      "['Rajesh Yadav', 'Sameer', 'anu', 'manjeet', 'pooja', 'Gopal Mishra', 'Surendra Mahara', 'Author4', 'kiran sahu']\n",
      "['manjeet', 'shekhawat', 'Sameer', 'Virat Choudhary', 'ravish kumar', 'prabhakar', 'Surendra Mahara', 'pooja', 'Rajesh Yadav']\n",
      "['Sameer', 'Rajesh Yadav', 'Khushdeep', 'shekhawat', 'pooja', 'Surendra Mahara', 'prabhakar', 'kiran sahu', 'anu', 'manjeet']\n",
      "['Khushdeep', 'manjeet', 'Sameer', 'Virat Choudhary', 'Surendra Mahara', 'Rajesh Yadav', 'Gopal Mishra', 'shekhawat', 'ravish kumar', 'pooja']\n",
      "['shekhawat', 'kiran sahu', 'Rajesh Yadav', 'Surendra Mahara', 'Sameer', 'anu', 'Khushdeep', 'prabhakar', 'Gopal Mishra', 'ravish kumar']\n",
      "['manjeet', 'ravish kumar', 'Surendra Mahara', 'prabhakar', 'kiran sahu', 'Rajesh Yadav', 'Gopal Mishra', 'shekhawat', 'pooja', 'Khushdeep']\n",
      "['Surendra Mahara', 'Khushdeep', 'anu', 'Rajesh Yadav', 'Sameer', 'prabhakar', 'Virat Choudhary', 'ravish kumar', 'Author4', 'manjeet']\n",
      "['shekhawat', 'Virat Choudhary', 'Rajesh Yadav', 'Surendra Mahara', 'anu', 'prabhakar', 'pooja', 'Gopal Mishra', 'manjeet', 'Author4']\n",
      "['manjeet', 'Surendra Mahara', 'Author4', 'Gopal Mishra', 'pooja', 'ravish kumar', 'shekhawat', 'kiran sahu', 'anu', 'Sameer']\n",
      "['shekhawat', 'Gopal Mishra', 'pooja', 'prabhakar', 'manjeet', 'Sameer', 'Khushdeep', 'ravish kumar', 'Surendra Mahara', 'kiran sahu']\n",
      "['manjeet', 'Virat Choudhary', 'ravish kumar', 'Sameer', 'Rajesh Yadav', 'anu', 'prabhakar', 'Surendra Mahara', 'kiran sahu', 'Gopal Mishra']\n",
      "['pooja', 'prabhakar', 'kiran sahu', 'shekhawat', 'Author4', 'Rajesh Yadav', 'Sameer', 'Gopal Mishra', 'Virat Choudhary', 'Khushdeep']\n",
      "['Gopal Mishra', 'Khushdeep', 'anu', 'prabhakar', 'manjeet', 'ravish kumar', 'Virat Choudhary', 'shekhawat', 'Rajesh Yadav', 'Sameer']\n",
      "['anu', 'prabhakar', 'shekhawat', 'Surendra Mahara', 'kiran sahu', 'Sameer', 'Khushdeep', 'Author4', 'ravish kumar', 'Virat Choudhary']\n",
      "['Virat Choudhary', 'anu', 'Surendra Mahara', 'pooja', 'Rajesh Yadav', 'Sameer', 'kiran sahu', 'Khushdeep', 'manjeet', 'shekhawat']\n",
      "['anu', 'Sameer', 'Gopal Mishra', 'prabhakar', 'shekhawat', 'Khushdeep', 'manjeet', 'Author4', 'Surendra Mahara', 'Rajesh Yadav']\n",
      "['anu', 'Khushdeep', 'Surendra Mahara', 'shekhawat', 'Gopal Mishra', 'Rajesh Yadav', 'Virat Choudhary', 'pooja', 'manjeet', 'Author4']\n",
      "['kiran sahu', 'Gopal Mishra', 'manjeet', 'Surendra Mahara', 'Rajesh Yadav', 'pooja', 'prabhakar', 'shekhawat', 'Khushdeep', 'Author4']\n",
      "['shekhawat', 'kiran sahu', 'pooja', 'anu', 'Khushdeep', 'Sameer', 'Virat Choudhary', 'Author4', 'Rajesh Yadav', 'prabhakar']\n",
      "['Khushdeep', 'shekhawat', 'Author4', 'Surendra Mahara', 'prabhakar', 'kiran sahu', 'Virat Choudhary', 'Rajesh Yadav', 'ravish kumar', 'manjeet']\n",
      "['Sameer', 'Surendra Mahara', 'kiran sahu', 'Author4', 'Khushdeep', 'Rajesh Yadav', 'pooja', 'ravish kumar', 'anu', 'shekhawat']\n",
      "['ravish kumar', 'shekhawat', 'pooja', 'kiran sahu', 'prabhakar', 'Surendra Mahara', 'manjeet', 'Rajesh Yadav', 'Author4', 'Sameer']\n",
      "['anu', 'Gopal Mishra', 'shekhawat', 'ravish kumar', 'Rajesh Yadav', 'kiran sahu', 'Sameer', 'pooja', 'Author4', 'prabhakar', 'Virat Choudhary']\n",
      "['Rajesh Yadav', 'Khushdeep', 'kiran sahu', 'manjeet', 'pooja', 'Surendra Mahara', 'Virat Choudhary', 'ravish kumar', 'prabhakar', 'shekhawat', 'Author4']\n",
      "['pooja', 'ravish kumar', 'anu', 'prabhakar', 'Author4', 'Sameer', 'Surendra Mahara', 'kiran sahu', 'Rajesh Yadav', 'shekhawat', 'manjeet']\n",
      "['ravish kumar', 'manjeet', 'Khushdeep', 'Gopal Mishra', 'shekhawat', 'anu', 'Virat Choudhary', 'Surendra Mahara', 'pooja', 'Author4', 'Rajesh Yadav']\n",
      "['manjeet', 'Virat Choudhary', 'Author4', 'Gopal Mishra', 'kiran sahu', 'ravish kumar', 'prabhakar', 'Sameer', 'shekhawat', 'Khushdeep', 'Surendra Mahara']\n",
      "['manjeet', 'anu', 'kiran sahu', 'Gopal Mishra', 'shekhawat', 'Khushdeep', 'prabhakar', 'Surendra Mahara', 'Sameer', 'ravish kumar', 'Virat Choudhary']\n",
      "['kiran sahu', 'Surendra Mahara', 'pooja', 'manjeet', 'Khushdeep', 'ravish kumar', 'Sameer', 'anu', 'Virat Choudhary', 'Gopal Mishra', 'shekhawat']\n",
      "['prabhakar', 'kiran sahu', 'Author4', 'shekhawat', 'pooja', 'manjeet', 'ravish kumar', 'Surendra Mahara', 'anu', 'Rajesh Yadav', 'Khushdeep']\n",
      "['manjeet', 'Surendra Mahara', 'pooja', 'shekhawat', 'Gopal Mishra', 'Virat Choudhary', 'Khushdeep', 'Author4', 'Sameer', 'anu', 'ravish kumar']\n",
      "['prabhakar', 'Khushdeep', 'Virat Choudhary', 'kiran sahu', 'manjeet', 'anu', 'shekhawat', 'Surendra Mahara', 'Author4', 'ravish kumar', 'Rajesh Yadav']\n",
      "['kiran sahu', 'shekhawat', 'ravish kumar', 'Sameer', 'prabhakar', 'Gopal Mishra', 'Rajesh Yadav', 'Virat Choudhary', 'Khushdeep', 'anu', 'Surendra Mahara']\n",
      "['shekhawat', 'ravish kumar', 'pooja', 'Author4', 'Surendra Mahara', 'Khushdeep', 'prabhakar', 'Sameer', 'anu', 'manjeet', 'Gopal Mishra']\n",
      "['anu', 'pooja', 'Rajesh Yadav', 'Gopal Mishra', 'Surendra Mahara', 'Sameer', 'manjeet', 'shekhawat', 'ravish kumar', 'Khushdeep', 'prabhakar']\n",
      "['Virat Choudhary', 'manjeet', 'Surendra Mahara', 'pooja', 'Khushdeep', 'Author4', 'anu', 'Gopal Mishra', 'kiran sahu', 'ravish kumar', 'prabhakar']\n",
      "['Gopal Mishra', 'Rajesh Yadav', 'Khushdeep', 'Author4', 'Virat Choudhary', 'kiran sahu', 'ravish kumar', 'pooja', 'anu', 'Surendra Mahara', 'manjeet']\n",
      "['kiran sahu', 'manjeet', 'Sameer', 'shekhawat', 'Gopal Mishra', 'Surendra Mahara', 'Virat Choudhary', 'Khushdeep', 'ravish kumar', 'Rajesh Yadav', 'Author4']\n"
     ]
    },
    {
     "name": "stdout",
     "output_type": "stream",
     "text": [
      "['Virat Choudhary', 'prabhakar', 'Sameer', 'Author4', 'anu', 'Surendra Mahara', 'Rajesh Yadav', 'Khushdeep', 'manjeet', 'kiran sahu', 'shekhawat']\n",
      "['anu', 'Rajesh Yadav', 'Sameer', 'Gopal Mishra', 'kiran sahu', 'pooja', 'shekhawat', 'Virat Choudhary', 'ravish kumar', 'manjeet', 'Surendra Mahara']\n",
      "['kiran sahu', 'Khushdeep', 'prabhakar', 'Gopal Mishra', 'ravish kumar', 'pooja', 'Author4', 'Rajesh Yadav', 'shekhawat', 'anu', 'Surendra Mahara']\n",
      "['prabhakar', 'Sameer', 'manjeet', 'ravish kumar', 'Author4', 'Surendra Mahara', 'Gopal Mishra', 'anu', 'pooja', 'Rajesh Yadav', 'shekhawat']\n",
      "['Gopal Mishra', 'Sameer', 'shekhawat', 'Khushdeep', 'prabhakar', 'Virat Choudhary', 'Surendra Mahara', 'kiran sahu', 'Rajesh Yadav', 'anu', 'Author4', 'manjeet']\n",
      "['shekhawat', 'ravish kumar', 'Gopal Mishra', 'pooja', 'kiran sahu', 'Virat Choudhary', 'Khushdeep', 'Rajesh Yadav', 'Surendra Mahara', 'anu', 'manjeet', 'prabhakar']\n",
      "['Sameer', 'pooja', 'shekhawat', 'kiran sahu', 'Rajesh Yadav', 'anu', 'Surendra Mahara', 'Gopal Mishra', 'Virat Choudhary', 'Khushdeep', 'prabhakar', 'ravish kumar']\n",
      "['Surendra Mahara', 'manjeet', 'pooja', 'Khushdeep', 'prabhakar', 'ravish kumar', 'Rajesh Yadav', 'kiran sahu', 'Gopal Mishra', 'Author4', 'anu', 'Sameer']\n",
      "['Sameer', 'ravish kumar', 'anu', 'prabhakar', 'kiran sahu', 'Author4', 'Gopal Mishra', 'shekhawat', 'manjeet', 'Rajesh Yadav', 'pooja', 'Surendra Mahara']\n",
      "['Rajesh Yadav', 'kiran sahu', 'ravish kumar', 'Khushdeep', 'Gopal Mishra', 'anu', 'prabhakar', 'manjeet', 'Sameer', 'Virat Choudhary', 'Author4', 'Surendra Mahara']\n",
      "['Gopal Mishra', 'kiran sahu', 'shekhawat', 'Sameer', 'pooja', 'Rajesh Yadav', 'anu', 'Surendra Mahara', 'Author4', 'Khushdeep', 'prabhakar', 'Virat Choudhary']\n",
      "['kiran sahu', 'Virat Choudhary', 'prabhakar', 'shekhawat', 'Surendra Mahara', 'Author4', 'anu', 'Sameer', 'pooja', 'Khushdeep', 'Gopal Mishra', 'Rajesh Yadav']\n",
      "['Author4', 'Sameer', 'Virat Choudhary', 'Rajesh Yadav', 'pooja', 'Surendra Mahara', 'prabhakar', 'Gopal Mishra', 'manjeet', 'kiran sahu', 'Khushdeep', 'ravish kumar']\n",
      "['anu', 'Author4', 'Rajesh Yadav', 'kiran sahu', 'manjeet', 'Virat Choudhary', 'Surendra Mahara', 'Gopal Mishra', 'shekhawat', 'Khushdeep', 'ravish kumar', 'pooja']\n",
      "['Author4', 'Khushdeep', 'anu', 'Sameer', 'Surendra Mahara', 'pooja', 'manjeet', 'shekhawat', 'Virat Choudhary', 'Rajesh Yadav', 'prabhakar', 'Gopal Mishra']\n",
      "['Surendra Mahara', 'pooja', 'ravish kumar', 'Gopal Mishra', 'prabhakar', 'Khushdeep', 'anu', 'Author4', 'kiran sahu', 'Virat Choudhary', 'Sameer', 'shekhawat']\n",
      "['Surendra Mahara', 'Gopal Mishra', 'prabhakar', 'Author4', 'anu', 'manjeet', 'Sameer', 'Virat Choudhary', 'Khushdeep', 'Rajesh Yadav', 'pooja', 'ravish kumar']\n",
      "['Gopal Mishra', 'ravish kumar', 'Khushdeep', 'manjeet', 'Surendra Mahara', 'prabhakar', 'anu', 'kiran sahu', 'pooja', 'Rajesh Yadav', 'Author4', 'shekhawat']\n",
      "['Rajesh Yadav', 'Gopal Mishra', 'Author4', 'manjeet', 'pooja', 'Virat Choudhary', 'prabhakar', 'anu', 'Sameer', 'shekhawat', 'Khushdeep', 'ravish kumar']\n",
      "['pooja', 'Author4', 'manjeet', 'shekhawat', 'Gopal Mishra', 'kiran sahu', 'anu', 'Rajesh Yadav', 'Surendra Mahara', 'prabhakar', 'Virat Choudhary', 'ravish kumar']\n",
      "['pooja', 'Khushdeep', 'Gopal Mishra', 'prabhakar', 'manjeet', 'shekhawat', 'Sameer', 'Virat Choudhary', 'Author4', 'kiran sahu', 'Surendra Mahara', 'Rajesh Yadav']\n",
      "['Author4', 'Surendra Mahara', 'kiran sahu', 'anu', 'manjeet', 'Rajesh Yadav', 'pooja', 'Virat Choudhary', 'Gopal Mishra', 'prabhakar', 'ravish kumar', 'shekhawat']\n",
      "['Author4', 'Gopal Mishra', 'Virat Choudhary', 'anu', 'Surendra Mahara', 'ravish kumar', 'pooja', 'shekhawat', 'manjeet', 'Sameer', 'Rajesh Yadav', 'Khushdeep']\n",
      "['Khushdeep', 'ravish kumar', 'Author4', 'pooja', 'manjeet', 'anu', 'shekhawat', 'prabhakar', 'Gopal Mishra', 'Sameer', 'Virat Choudhary', 'kiran sahu']\n",
      "['manjeet', 'anu', 'Author4', 'Surendra Mahara', 'Rajesh Yadav', 'shekhawat', 'Sameer', 'prabhakar', 'pooja', 'Virat Choudhary', 'ravish kumar', 'Gopal Mishra', 'Khushdeep']\n",
      "['manjeet', 'anu', 'Rajesh Yadav', 'Sameer', 'ravish kumar', 'Khushdeep', 'Virat Choudhary', 'pooja', 'kiran sahu', 'Surendra Mahara', 'prabhakar', 'Author4', 'shekhawat']\n",
      "['pooja', 'Rajesh Yadav', 'prabhakar', 'anu', 'Sameer', 'kiran sahu', 'manjeet', 'Virat Choudhary', 'Surendra Mahara', 'Gopal Mishra', 'Khushdeep', 'shekhawat', 'Author4']\n",
      "['manjeet', 'pooja', 'Khushdeep', 'Author4', 'ravish kumar', 'shekhawat', 'Virat Choudhary', 'Rajesh Yadav', 'Gopal Mishra', 'prabhakar', 'kiran sahu', 'anu', 'Sameer']\n",
      "['manjeet', 'Sameer', 'kiran sahu', 'Rajesh Yadav', 'anu', 'Khushdeep', 'Virat Choudhary', 'prabhakar', 'shekhawat', 'pooja', 'Gopal Mishra', 'Author4', 'ravish kumar']\n",
      "['Sameer', 'prabhakar', 'pooja', 'Author4', 'anu', 'Rajesh Yadav', 'Khushdeep', 'kiran sahu', 'Gopal Mishra', 'Virat Choudhary', 'shekhawat', 'Surendra Mahara', 'manjeet']\n",
      "['Surendra Mahara', 'Rajesh Yadav', 'Virat Choudhary', 'pooja', 'ravish kumar', 'manjeet', 'Gopal Mishra', 'prabhakar', 'Khushdeep', 'anu', 'Author4', 'shekhawat', 'kiran sahu']\n",
      "['Author4', 'Virat Choudhary', 'pooja', 'Gopal Mishra', 'Sameer', 'anu', 'kiran sahu', 'Khushdeep', 'prabhakar', 'ravish kumar', 'manjeet', 'shekhawat', 'Rajesh Yadav']\n",
      "['Khushdeep', 'Gopal Mishra', 'ravish kumar', 'Surendra Mahara', 'kiran sahu', 'manjeet', 'Virat Choudhary', 'Author4', 'Rajesh Yadav', 'shekhawat', 'anu', 'pooja', 'Sameer']\n",
      "['Author4', 'Virat Choudhary', 'anu', 'kiran sahu', 'Rajesh Yadav', 'Khushdeep', 'Surendra Mahara', 'Sameer', 'Gopal Mishra', 'ravish kumar', 'manjeet', 'pooja', 'prabhakar']\n",
      "['Gopal Mishra', 'kiran sahu', 'anu', 'Author4', 'Khushdeep', 'Sameer', 'Virat Choudhary', 'manjeet', 'Rajesh Yadav', 'Surendra Mahara', 'prabhakar', 'pooja', 'shekhawat']\n",
      "['prabhakar', 'shekhawat', 'Gopal Mishra', 'Rajesh Yadav', 'kiran sahu', 'Surendra Mahara', 'ravish kumar', 'Author4', 'manjeet', 'Khushdeep', 'anu', 'Sameer', 'Virat Choudhary']\n",
      "['manjeet', 'Khushdeep', 'pooja', 'ravish kumar', 'Virat Choudhary', 'Rajesh Yadav', 'Surendra Mahara', 'prabhakar', 'Sameer', 'Gopal Mishra', 'shekhawat', 'anu', 'kiran sahu']\n",
      "['anu', 'pooja', 'Author4', 'Surendra Mahara', 'kiran sahu', 'Gopal Mishra', 'shekhawat', 'Virat Choudhary', 'Rajesh Yadav', 'Sameer', 'prabhakar', 'Khushdeep', 'ravish kumar']\n",
      "['Gopal Mishra', 'ravish kumar', 'anu', 'Author4', 'Virat Choudhary', 'Khushdeep', 'Sameer', 'manjeet', 'Rajesh Yadav', 'kiran sahu', 'pooja', 'Surendra Mahara', 'prabhakar', 'shekhawat']\n"
     ]
    }
   ],
   "source": [
    "from sklearn.feature_extraction.text import CountVectorizer\n",
    "import pandas as pd\n",
    "import os\n",
    "from sklearn import svm, model_selection, tree, preprocessing, metrics\n",
    "from sklearn.ensemble import RandomForestClassifier\n",
    "import codecs\n",
    "from nltk.probability import FreqDist\n",
    "from sklearn import linear_model\n",
    "from sklearn.model_selection import GridSearchCV\n",
    "import helper\n",
    "import scipy.special as sp\n",
    "import random\n",
    "\n",
    "\n",
    "path='/mnt/A042994142991CDA/Hindi_train/'\n",
    "svm_scores=[]\n",
    "random_forest_scores=[]\n",
    "svm_times=[]\n",
    "random_forest_times=[]\n",
    "\n",
    "\n",
    "vectorizer = CountVectorizer(analyzer='char_wb', ngram_range=(2,2), min_df = 0)\n",
    "\n",
    "for i in range(3,15):\n",
    "    iterations=0\n",
    "    x=int(sp.comb(14,i))\n",
    "    if(x>20):\n",
    "        iterations=20\n",
    "    else:\n",
    "        iterations=x\n",
    "    \n",
    "    x1=0\n",
    "    x2=0\n",
    "    y1=0\n",
    "    y2=0\n",
    "    for a in range(iterations):\n",
    "        random_list=random.sample(range(14),i)\n",
    "        train_data_X,train_data_Y,length=helper.prepare_data(authors_to_consider=random_list,vectorizer=vectorizer,add_features='no',path=path,no_of_authors=i)\n",
    "\n",
    "    \n",
    "        helper.text_normalise(train_data_X,length)  #tf-idf normalisation\n",
    "        helper.feature_normalise(train_data_X)      #normalisation for machine learning algo\n",
    "\n",
    "        a,b,c,d=helper.learn(train_data_X,train_data_Y)\n",
    "        x1+=a\n",
    "        x2+=b\n",
    "        y1+=c\n",
    "        y2+=d\n",
    "        \n",
    "    x1=x1/iterations\n",
    "    x2=x2/iterations\n",
    "    y1=y1/iterations\n",
    "    y2=y2/iterations\n",
    "    \n",
    "    svm_scores+=[x1]\n",
    "    svm_times+=[x2]\n",
    "    random_forest_scores+=[y1]\n",
    "    random_forest_times+=[y2]\n",
    "    \n",
    "\n",
    "\n",
    "\n",
    "\n",
    "\n",
    "\n",
    "\n",
    "\n",
    "\n",
    "\n",
    "\n",
    "\n",
    "\n"
   ]
  },
  {
   "cell_type": "code",
   "execution_count": 6,
   "metadata": {},
   "outputs": [
    {
     "data": {
      "text/plain": [
       "[<matplotlib.lines.Line2D at 0x7f2e0cc4d208>]"
      ]
     },
     "execution_count": 6,
     "metadata": {},
     "output_type": "execute_result"
    },
    {
     "data": {
      "image/png": "[encoded data removed]",
      "text/plain": [
       "<matplotlib.figure.Figure at 0x7f2e0ccce3c8>"
      ]
     },
     "metadata": {},
     "output_type": "display_data"
    }
   ],
   "source": [
    "import matplotlib.pyplot as plt\n",
    "%matplotlib inline\n",
    "plt.plot([x for x in range(3,15)],svm_scores)"
   ]
  },
  {
   "cell_type": "code",
   "execution_count": 7,
   "metadata": {},
   "outputs": [
    {
     "data": {
      "text/plain": [
       "[<matplotlib.lines.Line2D at 0x7f2e0cc1bd68>]"
      ]
     },
     "execution_count": 7,
     "metadata": {},
     "output_type": "execute_result"
    },
    {
     "data": {
      "image/png": "[encoded data removed]",
      "text/plain": [
       "<matplotlib.figure.Figure at 0x7f2e142086d8>"
      ]
     },
     "metadata": {},
     "output_type": "display_data"
    }
   ],
   "source": [
    "plt.plot([x for x in range(3,15)],random_forest_scores)"
   ]
  },
  {
   "cell_type": "code",
   "execution_count": 8,
   "metadata": {},
   "outputs": [
    {
     "data": {
      "text/plain": [
       "[<matplotlib.lines.Line2D at 0x7f2e0cb75048>]"
      ]
     },
     "execution_count": 8,
     "metadata": {},
     "output_type": "execute_result"
    },
    {
     "data": {
      "image/png": "[encoded data removed]",
      "text/plain": [
       "<matplotlib.figure.Figure at 0x7f2e0cc68eb8>"
      ]
     },
     "metadata": {},
     "output_type": "display_data"
    }
   ],
   "source": [
    "plt.plot([x for x in range(3,15)],svm_times)"
   ]
  },
  {
   "cell_type": "code",
   "execution_count": 9,
   "metadata": {},
   "outputs": [
    {
     "data": {
      "text/plain": [
       "[<matplotlib.lines.Line2D at 0x7f2e0cb37c50>]"
      ]
     },
     "execution_count": 9,
     "metadata": {},
     "output_type": "execute_result"
    },
    {
     "data": {
      "image/png": "[encoded data removed]",
      "text/plain": [
       "<matplotlib.figure.Figure at 0x7f2e0cc534a8>"
      ]
     },
     "metadata": {},
     "output_type": "display_data"
    }
   ],
   "source": [
    "plt.plot([x for x in range(3,15)],random_forest_times)"
   ]
  },
  {
   "cell_type": "code",
   "execution_count": null,
   "metadata": {},
   "outputs": [],
   "source": []
  },
  {
   "cell_type": "code",
   "execution_count": 5,
   "metadata": {},
   "outputs": [],
   "source": [
    "plt.show()"
   ]
  },
  {
   "cell_type": "code",
   "execution_count": null,
   "metadata": {},
   "outputs": [],
   "source": []
  },
  {
   "cell_type": "code",
   "execution_count": null,
   "metadata": {},
   "outputs": [],
   "source": []
  },
  {
   "cell_type": "code",
   "execution_count": null,
   "metadata": {},
   "outputs": [],
   "source": []
  }
 ],
 "metadata": {
  "kernelspec": {
   "display_name": "Python 3",
   "language": "python",
   "name": "python3"
  },
  "language_info": {
   "codemirror_mode": {
    "name": "ipython",
    "version": 3
   },
   "file_extension": ".py",
   "mimetype": "text/x-python",
   "name": "python",
   "nbconvert_exporter": "python",
   "pygments_lexer": "ipython3",
   "version": "3.6.4"
  }
 },
 "nbformat": 4,
 "nbformat_minor": 2
}
