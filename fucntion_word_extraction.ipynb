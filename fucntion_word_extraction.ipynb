{
 "cells": [
  {
   "cell_type": "code",
   "execution_count": 44,
   "metadata": {},
   "outputs": [
    {
     "name": "stdout",
     "output_type": "stream",
     "text": [
      "2\n",
      "3\n",
      "4\n",
      "5\n",
      "6\n",
      "7\n",
      "8\n",
      "9\n",
      "10\n"
     ]
    }
   ],
   "source": [
    "from sklearn.feature_extraction.text import CountVectorizer\n",
    "import pandas as pd\n",
    "import helper\n",
    "import matplotlib.pyplot as plt\n",
    "import numpy as np\n",
    "\n",
    "start=chr(0x900)                    # 0x900 is the unicode point of first character of hindi alphabet\n",
    "end=chr(0x97F)                      # 0x900 is the unicode point of last character of hindi alphabet\n",
    "\n",
    "vectorizer=CountVectorizer(token_pattern=\"[\"+start+\"-\"+end+\"]+\",min_df = 0,binary=True)\n",
    "        \n",
    "authors=os.listdir('Hindi_train')\n",
    "files=helper.get_files(authors)\n",
    "\n",
    "\n",
    "docs=[]\n",
    "for file in files:\n",
    "        doc = codecs.open(file, \"r\", encoding='utf-16')\n",
    "        document=doc.read()\n",
    "        docs+=[document]\n",
    "        doc.close()\n",
    "\n",
    "X=vectorizer.fit_transform(docs)\n",
    "train_data_X=pd.DataFrame(data=X.toarray(),columns=vectorizer.get_feature_names())\n",
    "\n",
    "            \n",
    "        \n",
    "        \n",
    "#extracting words which have occured in  more than half of the documents i,e most frequent words\n",
    "#The extracted words have a very high probability of being function words\n",
    "\n",
    "sum=[]\n",
    "columns=[]\n",
    "for each in train_data_X.columns:\n",
    "                sum_of_values=train_data_X[each].sum()\n",
    "                sum=sum+[sum_of_values]\n",
    "                columns=columns+[each]\n",
    "\n",
    "sum=pd.Series(data=sum,index=columns)\n",
    "cut_off=train_data_X.shape[0]\n",
    "\n",
    "base=2\n",
    "\n",
    "length=[]\n",
    "\n",
    "while (base <= 10):\n",
    "    print(base)\n",
    "    function_words=sum[sum>(cut_off*(base/10))]    #cut off frequency i,e percentage of total documents the word appeared. Here we set to 50%.\n",
    "    length+=[len(function_words)]\n",
    "    file=open('frequency '+ str(base),'w')\n",
    "    function_words=[str(x) for x in function_words.index]\n",
    "    function_words=\",\".join(function_words)\n",
    "    file.write(function_words)\n",
    "    file.close()\n",
    "    base+=1\n",
    "\n",
    "\n",
    "\n",
    "\n",
    "\n",
    "\n",
    "\n",
    "\n"
   ]
  },
  {
   "cell_type": "code",
   "execution_count": 45,
   "metadata": {},
   "outputs": [
    {
     "name": "stdout",
     "output_type": "stream",
     "text": [
      "[288, 177, 122, 85, 58, 34, 22, 18, 0]\n"
     ]
    }
   ],
   "source": [
    "print(length)"
   ]
  },
  {
   "cell_type": "code",
   "execution_count": 50,
   "metadata": {},
   "outputs": [
    {
     "name": "stdout",
     "output_type": "stream",
     "text": [
      "cut_off=1.0\n",
      "total words=0\n",
      "\n",
      "cut_off=0.9\n",
      "total words=18\n",
      "इस एक और कर का कि की के को तो नहीं पर भी में से ही है हो \n",
      "cut_off=0.8\n",
      "total words=22\n",
      "अपने जो लिए हैं \n",
      "cut_off=0.7\n",
      "total words=34\n",
      "करने किसी कुछ कोई जब तक था ने बाद यह रहे साथ \n",
      "cut_off=0.6\n",
      "total words=58\n",
      "अपनी अब आप उस उसे करते किया क्या गया तरह न पहले बहुत बात या ये रहा रही लेकिन हम हर हुए होता होने \n",
      "cut_off=0.5\n",
      "total words=85\n",
      "अगर आज उनके उसके ऐसा कई करना जा जाता जैसे थी थे दिन दिया फिर बार मैं लोग लोगों वह वाले वो सकता समय हुआ होती होते \n",
      "cut_off=0.4\n",
      "total words=122\n",
      "अपना आ आपको इन इसके इसलिए इसी उन उनकी उन्हें उसकी ऐसे कभी करता कहा काम गई जाती जाते जाने तब दे दो नाम पास यही लगा ले लेकर वे सकते सब सभी हुई हैं। है। होगा \n",
      "cut_off=0.3\n",
      "total words=177\n",
      "अभी अलग आगे आने इतना इसका इसे उसका उसी ऐसी कम करती कहीं कैसे क्यों क्योंकि खुद गए घर चल चाहिए जिस जीवन था। दी दुनिया दूर देते देने देश दोनों पता पूरा पूरी बन बना बस बारे मन मुझे याद रूप लगे लिया वही वाला वाली सकती सबसे सही साल सिर्फ हमारे हमें होगी \n",
      "cut_off=0.2\n",
      "total words=288\n",
      "अच्छा अच्छी अधिक आई आता आती आते आपका आपकी आपके आपने आया इतनी इससे उनका उनसे उन्होंने उसने उससे ओर करके करें कह कहते कहानी कारण कितना कितने कोशिश कौन गया। चला चाहते जगह जाए जानते जाना जी जैसा ज्यादा ठीक तभी तीन तैयार थी। थे। दिनों दूसरे देख देखा देता देना द्वारा ध्यान ना निकल पहली पिछले पीछे पूरे बता बदल बनाने बल्कि बाहर बिना बीच बड़ी भर भारत मगर मतलब मान मिल मेरा मेरी मेरे मैंने यदि यहाँ रह रहता रहते रहने लग लगता लगी लिखा ली लेते लेने वजह वहां वैसे व्यक्ति शहर शायद शुरू समझ सरकार सा सामने सारे सी सोच हमारी हाथ हूँ होकर होना । \n"
     ]
    }
   ],
   "source": [
    "previous=[]\n",
    "\n",
    "base='frequency '\n",
    "number_of_words=[]\n",
    "cut_off=[]\n",
    "value=10\n",
    "while(value>1):\n",
    "    cut_off+=[value/10]\n",
    "    \n",
    "    print('cut_off='+str(value/10))\n",
    "    file=open(base+str(value),'r')\n",
    "    current=file.read()\n",
    "    if current:\n",
    "        current=current.split(',')\n",
    "        cur_length=len(current)\n",
    "    else:\n",
    "        cur_length=0\n",
    "        \n",
    "    number_of_words+=[cur_length]\n",
    "    print('total words='+str(cur_length))\n",
    "    for each in current:                           #going to show only new words which appear on decreasing cutoff\n",
    "        if each not in previous:\n",
    "            print(each,end=' ')\n",
    "    \n",
    "    file.close()\n",
    "    previous=current\n",
    "    value-=1\n",
    "    print(\"\")\n",
    "        \n",
    "    \n",
    "\n",
    "    "
   ]
  },
  {
   "cell_type": "code",
   "execution_count": 78,
   "metadata": {},
   "outputs": [
    {
     "data": {
      "image/png": "[encoded data removed]",
      "text/plain": [
       "<matplotlib.figure.Figure at 0x7f2e8c681748>"
      ]
     },
     "metadata": {},
     "output_type": "display_data"
    }
   ],
   "source": []
  },
  {
   "cell_type": "code",
   "execution_count": 79,
   "metadata": {},
   "outputs": [
    {
     "data": {
      "text/plain": [
       "array([  0,  17,  20,  28,  48,  69,  90, 113, 155])"
      ]
     },
     "execution_count": 79,
     "metadata": {},
     "output_type": "execute_result"
    }
   ],
   "source": [
    "number_of_function_words"
   ]
  },
  {
   "cell_type": "code",
   "execution_count": 80,
   "metadata": {},
   "outputs": [
    {
     "data": {
      "text/plain": [
       "array([  0,   1,   2,   6,  10,  16,  32,  64, 133])"
      ]
     },
     "execution_count": 80,
     "metadata": {},
     "output_type": "execute_result"
    }
   ],
   "source": [
    "number_of_non_function_words"
   ]
  },
  {
   "cell_type": "code",
   "execution_count": 81,
   "metadata": {},
   "outputs": [
    {
     "name": "stderr",
     "output_type": "stream",
     "text": [
      "/home/kishanku56/anaconda3/lib/python3.6/site-packages/ipykernel_launcher.py:1: RuntimeWarning: invalid value encountered in true_divide\n",
      "  \"\"\"Entry point for launching an IPython kernel.\n"
     ]
    }
   ],
   "source": [
    "useful_ratio=number_of_function_words/np.array(number_of_words)"
   ]
  },
  {
   "cell_type": "code",
   "execution_count": 83,
   "metadata": {},
   "outputs": [],
   "source": [
    "useful_ratio[0]=0"
   ]
  },
  {
   "cell_type": "code",
   "execution_count": 84,
   "metadata": {},
   "outputs": [
    {
     "data": {
      "text/plain": [
       "array([0.        , 0.94444444, 0.90909091, 0.82352941, 0.82758621,\n",
       "       0.81176471, 0.73770492, 0.63841808, 0.53819444])"
      ]
     },
     "execution_count": 84,
     "metadata": {},
     "output_type": "execute_result"
    }
   ],
   "source": [
    "useful_ratio"
   ]
  },
  {
   "cell_type": "code",
   "execution_count": 87,
   "metadata": {},
   "outputs": [
    {
     "name": "stderr",
     "output_type": "stream",
     "text": [
      "/home/kishanku56/anaconda3/lib/python3.6/site-packages/ipykernel_launcher.py:1: RuntimeWarning: invalid value encountered in true_divide\n",
      "  \"\"\"Entry point for launching an IPython kernel.\n"
     ]
    }
   ],
   "source": [
    "error_ratio=number_of_non_function_words/np.array(number_of_words)"
   ]
  },
  {
   "cell_type": "code",
   "execution_count": 88,
   "metadata": {},
   "outputs": [],
   "source": [
    "error_ratio[0]=0"
   ]
  },
  {
   "cell_type": "code",
   "execution_count": 89,
   "metadata": {},
   "outputs": [
    {
     "data": {
      "text/plain": [
       "array([0.        , 0.05555556, 0.09090909, 0.17647059, 0.17241379,\n",
       "       0.18823529, 0.26229508, 0.36158192, 0.46180556])"
      ]
     },
     "execution_count": 89,
     "metadata": {},
     "output_type": "execute_result"
    }
   ],
   "source": [
    "error_ratio"
   ]
  },
  {
   "cell_type": "code",
   "execution_count": 95,
   "metadata": {},
   "outputs": [
    {
     "data": {
      "image/png": "[encoded data removed]",
      "text/plain": [
       "<matplotlib.figure.Figure at 0x7f2e8c8d0668>"
      ]
     },
     "metadata": {},
     "output_type": "display_data"
    }
   ],
   "source": [
    "\n",
    "\n",
    "# Plot the figure.\n",
    "plt.figure(figsize=(8,6))\n",
    "\n",
    "\n",
    "\n",
    "\n",
    "# number_of_function_words counted manually\n",
    "\n",
    "number_of_non_function_words=np.array([0,1,2,6,10,16,32,64,133])\n",
    "\n",
    "number_of_function_words=np.array(number_of_words)-number_of_non_function_words\n",
    "\n",
    "   \n",
    "freq_series = pd.Series.from_array(useful_ratio*100)\n",
    "\n",
    "x_labels = cut_off\n",
    "ax = freq_series.plot(label='useful ratio')\n",
    "ax.set_xlabel('cut off')\n",
    "ax.set_ylabel('Number of words')\n",
    "ax.set_xticklabels(x_labels)\n",
    "ax.legend()\n",
    "\n",
    "freq_series = pd.Series.from_array(error_ratio*100)\n",
    "\n",
    "x_labels = cut_off\n",
    "ax = freq_series.plot(label='useful ratio')\n",
    "ax.legend()\n",
    "\n",
    "usefulness=((number_of_function_words-number_of_non_function_words)/(number_of_words+1))*100\n",
    "freq_series = pd.Series.from_array(usefulness)\n",
    "\n",
    "x_labels = cut_off\n",
    "ax = freq_series.plot(label='usefulness')\n",
    "ax.legend()\n",
    "\n",
    "plt.savefig('total words')\n"
   ]
  },
  {
   "cell_type": "code",
   "execution_count": 96,
   "metadata": {},
   "outputs": [
    {
     "data": {
      "image/png": "[encoded data removed]",
      "text/plain": [
       "<matplotlib.figure.Figure at 0x7f2e8c7e00f0>"
      ]
     },
     "metadata": {},
     "output_type": "display_data"
    }
   ],
   "source": [
    "import numpy\n",
    "from matplotlib import pyplot\n",
    "\n",
    "x = numpy.arange(10)\n",
    "y = numpy.array([5,3,4,2,7,5,4,6,3,2])\n",
    "\n",
    "fig = pyplot.figure()\n",
    "ax = fig.add_subplot(111)\n",
    "ax.set_ylim(0,10)\n",
    "pyplot.plot(x,y)\n",
    "for i,j in zip(x,y):\n",
    "    ax.annotate(str(j),xy=(i,j))\n",
    "\n",
    "pyplot.show()\n"
   ]
  },
  {
   "cell_type": "code",
   "execution_count": null,
   "metadata": {},
   "outputs": [],
   "source": []
  }
 ],
 "metadata": {
  "kernelspec": {
   "display_name": "Python 3",
   "language": "python",
   "name": "python3"
  },
  "language_info": {
   "codemirror_mode": {
    "name": "ipython",
    "version": 3
   },
   "file_extension": ".py",
   "mimetype": "text/x-python",
   "name": "python",
   "nbconvert_exporter": "python",
   "pygments_lexer": "ipython3",
   "version": "3.6.4"
  }
 },
 "nbformat": 4,
 "nbformat_minor": 2
}
