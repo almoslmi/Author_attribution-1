{
 "cells": [
  {
   "cell_type": "code",
   "execution_count": 1,
   "metadata": {},
   "outputs": [],
   "source": [
    "from sklearn.feature_extraction.text import CountVectorizer\n",
    "import pandas as pd\n",
    "import os\n",
    "from sklearn import svm, model_selection, tree, preprocessing, metrics\n",
    "from sklearn.ensemble import RandomForestClassifier\n",
    "import codecs\n",
    "from nltk.probability import FreqDist\n",
    "from sklearn import linear_model\n",
    "from sklearn.model_selection import GridSearchCV\n",
    "import helper\n",
    "import scipy.special as sp\n",
    "import random"
   ]
  },
  {
   "cell_type": "code",
   "execution_count": 2,
   "metadata": {
    "scrolled": false
   },
   "outputs": [
    {
     "name": "stdout",
     "output_type": "stream",
     "text": [
      "['manjeet', 'Rajesh Yadav', 'shekhawat']\n",
      "['Surendra Mahara', 'Author4', 'shekhawat']\n",
      "['Rajesh Yadav', 'Author4', 'anu']\n",
      "['pooja', 'Rajesh Yadav', 'Khushdeep']\n",
      "['Khushdeep', 'Sameer', 'Gopal Mishra']\n",
      "['prabhakar', 'kiran sahu', 'Khushdeep']\n",
      "['Gopal Mishra', 'kiran sahu', 'anu']\n",
      "['Virat Choudhary', 'kiran sahu', 'Gopal Mishra']\n",
      "['Rajesh Yadav', 'manjeet', 'Gopal Mishra']\n",
      "['shekhawat', 'Gopal Mishra', 'Surendra Mahara']\n",
      "['manjeet', 'anu', 'Gopal Mishra']\n",
      "['Virat Choudhary', 'Surendra Mahara', 'Rajesh Yadav']\n",
      "['Sameer', 'Surendra Mahara', 'Author4']\n",
      "['ravish kumar', 'anu', 'Gopal Mishra']\n",
      "['Surendra Mahara', 'pooja', 'Khushdeep']\n",
      "['ravish kumar', 'Surendra Mahara', 'Gopal Mishra']\n",
      "['kiran sahu', 'Gopal Mishra', 'prabhakar']\n",
      "['anu', 'Sameer', 'kiran sahu']\n",
      "['Khushdeep', 'Surendra Mahara', 'ravish kumar']\n",
      "['manjeet', 'kiran sahu', 'Rajesh Yadav']\n",
      "['manjeet', 'Virat Choudhary', 'prabhakar', 'Rajesh Yadav']\n",
      "['kiran sahu', 'manjeet', 'anu', 'shekhawat']\n",
      "['pooja', 'Gopal Mishra', 'Sameer', 'Virat Choudhary']\n",
      "['pooja', 'Surendra Mahara', 'manjeet', 'kiran sahu']\n",
      "['prabhakar', 'pooja', 'Author4', 'Surendra Mahara']\n",
      "['manjeet', 'Rajesh Yadav', 'anu', 'pooja']\n",
      "['Surendra Mahara', 'Gopal Mishra', 'Author4', 'kiran sahu']\n",
      "['ravish kumar', 'Rajesh Yadav', 'prabhakar', 'Virat Choudhary']\n",
      "['Author4', 'Gopal Mishra', 'pooja', 'Sameer']\n",
      "['Khushdeep', 'prabhakar', 'kiran sahu', 'Gopal Mishra']\n",
      "['Author4', 'Gopal Mishra', 'Sameer', 'anu']\n",
      "['Virat Choudhary', 'pooja', 'prabhakar', 'ravish kumar']\n",
      "['Sameer', 'Khushdeep', 'Gopal Mishra', 'Author4']\n",
      "['ravish kumar', 'Gopal Mishra', 'Khushdeep', 'pooja']\n",
      "['manjeet', 'Sameer', 'Khushdeep', 'Author4']\n",
      "['Author4', 'Virat Choudhary', 'anu', 'Gopal Mishra']\n",
      "['Rajesh Yadav', 'shekhawat', 'Surendra Mahara', 'Sameer']\n",
      "['Surendra Mahara', 'Rajesh Yadav', 'ravish kumar', 'Virat Choudhary']\n",
      "['Gopal Mishra', 'Author4', 'anu', 'pooja']\n",
      "['Virat Choudhary', 'pooja', 'prabhakar', 'Sameer']\n",
      "['Virat Choudhary', 'anu', 'prabhakar', 'shekhawat', 'ravish kumar']\n",
      "['anu', 'Virat Choudhary', 'Rajesh Yadav', 'prabhakar', 'Surendra Mahara']\n",
      "['Surendra Mahara', 'shekhawat', 'Sameer', 'Author4', 'pooja']\n",
      "['manjeet', 'Author4', 'kiran sahu', 'Virat Choudhary', 'shekhawat']\n",
      "['Gopal Mishra', 'Sameer', 'Surendra Mahara', 'kiran sahu', 'ravish kumar']\n",
      "['Virat Choudhary', 'Gopal Mishra', 'manjeet', 'Surendra Mahara', 'Sameer']\n",
      "['Surendra Mahara', 'anu', 'Virat Choudhary', 'Khushdeep', 'kiran sahu']\n",
      "['pooja', 'Rajesh Yadav', 'shekhawat', 'Sameer', 'ravish kumar']\n",
      "['Surendra Mahara', 'Author4', 'Rajesh Yadav', 'Gopal Mishra', 'anu']\n",
      "['Virat Choudhary', 'Surendra Mahara', 'manjeet', 'ravish kumar', 'pooja']\n",
      "['prabhakar', 'Surendra Mahara', 'shekhawat', 'Virat Choudhary', 'Gopal Mishra']\n",
      "['pooja', 'manjeet', 'ravish kumar', 'Rajesh Yadav', 'Sameer']\n",
      "['prabhakar', 'shekhawat', 'Khushdeep', 'Gopal Mishra', 'anu']\n",
      "['kiran sahu', 'Sameer', 'Rajesh Yadav', 'manjeet', 'anu']\n",
      "['Khushdeep', 'anu', 'Gopal Mishra', 'shekhawat', 'Virat Choudhary']\n",
      "['Khushdeep', 'Sameer', 'ravish kumar', 'pooja', 'manjeet']\n",
      "['shekhawat', 'Author4', 'Sameer', 'ravish kumar', 'anu']\n",
      "['ravish kumar', 'Khushdeep', 'pooja', 'Surendra Mahara', 'manjeet']\n",
      "['ravish kumar', 'Rajesh Yadav', 'shekhawat', 'kiran sahu', 'Virat Choudhary']\n",
      "['shekhawat', 'anu', 'Virat Choudhary', 'Author4', 'manjeet']\n",
      "['kiran sahu', 'Rajesh Yadav', 'anu', 'Surendra Mahara', 'Virat Choudhary', 'prabhakar']\n",
      "['shekhawat', 'ravish kumar', 'Khushdeep', 'pooja', 'Author4', 'prabhakar']\n",
      "['Sameer', 'anu', 'Surendra Mahara', 'manjeet', 'Author4', 'Virat Choudhary']\n",
      "['Virat Choudhary', 'Surendra Mahara', 'anu', 'kiran sahu', 'Khushdeep', 'ravish kumar']\n",
      "['Surendra Mahara', 'pooja', 'anu', 'shekhawat', 'Virat Choudhary', 'prabhakar']\n",
      "['Khushdeep', 'pooja', 'Gopal Mishra', 'Sameer', 'Surendra Mahara', 'Virat Choudhary']\n",
      "['anu', 'kiran sahu', 'Virat Choudhary', 'shekhawat', 'Author4', 'manjeet']\n",
      "['kiran sahu', 'Author4', 'manjeet', 'Sameer', 'Virat Choudhary', 'prabhakar']\n",
      "['Sameer', 'shekhawat', 'kiran sahu', 'anu', 'Virat Choudhary', 'pooja']\n",
      "['Khushdeep', 'kiran sahu', 'Gopal Mishra', 'shekhawat', 'Rajesh Yadav', 'pooja']\n",
      "['Surendra Mahara', 'Gopal Mishra', 'pooja', 'prabhakar', 'Virat Choudhary', 'shekhawat']\n",
      "['kiran sahu', 'Sameer', 'Khushdeep', 'manjeet', 'Surendra Mahara', 'Gopal Mishra']\n",
      "['Author4', 'shekhawat', 'ravish kumar', 'Sameer', 'prabhakar', 'manjeet']\n",
      "['Khushdeep', 'manjeet', 'ravish kumar', 'prabhakar', 'pooja', 'Gopal Mishra']\n",
      "['shekhawat', 'prabhakar', 'Khushdeep', 'Rajesh Yadav', 'ravish kumar', 'Virat Choudhary']\n",
      "['prabhakar', 'Khushdeep', 'kiran sahu', 'ravish kumar', 'Virat Choudhary', 'anu']\n",
      "['Khushdeep', 'Rajesh Yadav', 'Author4', 'ravish kumar', 'kiran sahu', 'Virat Choudhary']\n",
      "['shekhawat', 'kiran sahu', 'Khushdeep', 'prabhakar', 'ravish kumar', 'Gopal Mishra']\n",
      "['Gopal Mishra', 'kiran sahu', 'Surendra Mahara', 'pooja', 'Khushdeep', 'Sameer']\n",
      "['Rajesh Yadav', 'ravish kumar', 'shekhawat', 'Surendra Mahara', 'anu', 'kiran sahu']\n",
      "['Virat Choudhary', 'shekhawat', 'pooja', 'Gopal Mishra', 'Author4', 'Khushdeep', 'manjeet']\n",
      "['Sameer', 'Gopal Mishra', 'prabhakar', 'anu', 'Surendra Mahara', 'shekhawat', 'Author4']\n",
      "['Author4', 'Gopal Mishra', 'kiran sahu', 'anu', 'Khushdeep', 'pooja', 'Virat Choudhary']\n",
      "['Author4', 'Virat Choudhary', 'Gopal Mishra', 'Surendra Mahara', 'anu', 'manjeet', 'Khushdeep']\n",
      "['Sameer', 'Rajesh Yadav', 'prabhakar', 'Khushdeep', 'pooja', 'shekhawat', 'manjeet']\n",
      "['Khushdeep', 'Virat Choudhary', 'shekhawat', 'Rajesh Yadav', 'manjeet', 'Sameer', 'Author4']\n",
      "['Surendra Mahara', 'Sameer', 'Virat Choudhary', 'Rajesh Yadav', 'pooja', 'prabhakar', 'manjeet']\n",
      "['anu', 'Sameer', 'ravish kumar', 'manjeet', 'Gopal Mishra', 'pooja', 'Khushdeep']\n",
      "['shekhawat', 'Sameer', 'pooja', 'prabhakar', 'Author4', 'Khushdeep', 'Rajesh Yadav']\n",
      "['Surendra Mahara', 'pooja', 'Author4', 'Rajesh Yadav', 'anu', 'ravish kumar', 'Gopal Mishra']\n",
      "['pooja', 'prabhakar', 'Virat Choudhary', 'Rajesh Yadav', 'ravish kumar', 'Sameer', 'manjeet']\n",
      "['prabhakar', 'anu', 'Surendra Mahara', 'Author4', 'Khushdeep', 'kiran sahu', 'ravish kumar']\n",
      "['anu', 'pooja', 'Khushdeep', 'Gopal Mishra', 'shekhawat', 'Surendra Mahara', 'manjeet']\n",
      "['anu', 'Rajesh Yadav', 'ravish kumar', 'Virat Choudhary', 'shekhawat', 'prabhakar', 'Surendra Mahara']\n",
      "['Gopal Mishra', 'Surendra Mahara', 'ravish kumar', 'Virat Choudhary', 'pooja', 'shekhawat', 'Author4']\n",
      "['anu', 'Rajesh Yadav', 'Gopal Mishra', 'Surendra Mahara', 'Sameer', 'kiran sahu', 'shekhawat']\n",
      "['Khushdeep', 'pooja', 'Author4', 'kiran sahu', 'Rajesh Yadav', 'Sameer', 'shekhawat']\n",
      "['Surendra Mahara', 'manjeet', 'Rajesh Yadav', 'Sameer', 'Khushdeep', 'anu', 'shekhawat']\n",
      "['prabhakar', 'Virat Choudhary', 'Rajesh Yadav', 'Khushdeep', 'ravish kumar', 'manjeet', 'shekhawat']\n",
      "['Author4', 'kiran sahu', 'Gopal Mishra', 'shekhawat', 'Khushdeep', 'Surendra Mahara', 'Sameer']\n",
      "['Rajesh Yadav', 'Virat Choudhary', 'pooja', 'anu', 'manjeet', 'kiran sahu', 'Gopal Mishra', 'Surendra Mahara']\n",
      "['Khushdeep', 'Sameer', 'anu', 'Rajesh Yadav', 'ravish kumar', 'manjeet', 'prabhakar', 'Author4']\n",
      "['Rajesh Yadav', 'Surendra Mahara', 'pooja', 'Author4', 'anu', 'Khushdeep', 'Virat Choudhary', 'prabhakar']\n",
      "['Gopal Mishra', 'Khushdeep', 'Sameer', 'prabhakar', 'Surendra Mahara', 'Author4', 'Virat Choudhary', 'kiran sahu']\n",
      "['pooja', 'Virat Choudhary', 'anu', 'Sameer', 'Rajesh Yadav', 'shekhawat', 'Gopal Mishra', 'Author4']\n",
      "['Rajesh Yadav', 'shekhawat', 'pooja', 'Gopal Mishra', 'Author4', 'kiran sahu', 'Virat Choudhary', 'Surendra Mahara']\n",
      "['Khushdeep', 'Virat Choudhary', 'pooja', 'Rajesh Yadav', 'prabhakar', 'Surendra Mahara', 'manjeet', 'kiran sahu']\n",
      "['Khushdeep', 'anu', 'prabhakar', 'manjeet', 'Surendra Mahara', 'Gopal Mishra', 'kiran sahu', 'Sameer']\n",
      "['Surendra Mahara', 'ravish kumar', 'Virat Choudhary', 'Rajesh Yadav', 'Khushdeep', 'Gopal Mishra', 'shekhawat', 'Author4']\n",
      "['Sameer', 'Author4', 'kiran sahu', 'ravish kumar', 'Surendra Mahara', 'manjeet', 'prabhakar', 'Gopal Mishra']\n",
      "['Khushdeep', 'prabhakar', 'shekhawat', 'anu', 'kiran sahu', 'Virat Choudhary', 'Author4', 'Surendra Mahara']\n",
      "['Virat Choudhary', 'ravish kumar', 'Gopal Mishra', 'pooja', 'Author4', 'Surendra Mahara', 'prabhakar', 'manjeet']\n",
      "['shekhawat', 'prabhakar', 'Author4', 'Khushdeep', 'kiran sahu', 'anu', 'Surendra Mahara', 'ravish kumar']\n"
     ]
    },
    {
     "name": "stdout",
     "output_type": "stream",
     "text": [
      "['ravish kumar', 'Rajesh Yadav', 'kiran sahu', 'pooja', 'Author4', 'Sameer', 'Surendra Mahara', 'Gopal Mishra']\n",
      "['kiran sahu', 'Sameer', 'Khushdeep', 'Surendra Mahara', 'Author4', 'prabhakar', 'shekhawat', 'Rajesh Yadav']\n",
      "['Sameer', 'Surendra Mahara', 'Gopal Mishra', 'Khushdeep', 'anu', 'ravish kumar', 'prabhakar', 'kiran sahu']\n",
      "['Sameer', 'Surendra Mahara', 'pooja', 'ravish kumar', 'shekhawat', 'prabhakar', 'Gopal Mishra', 'anu']\n",
      "['prabhakar', 'Rajesh Yadav', 'manjeet', 'ravish kumar', 'Sameer', 'Author4', 'shekhawat', 'anu']\n",
      "['Virat Choudhary', 'anu', 'kiran sahu', 'Khushdeep', 'prabhakar', 'Author4', 'Sameer', 'pooja']\n",
      "['ravish kumar', 'anu', 'Rajesh Yadav', 'Gopal Mishra', 'Sameer', 'Surendra Mahara', 'Khushdeep', 'prabhakar']\n",
      "['Khushdeep', 'Gopal Mishra', 'anu', 'shekhawat', 'prabhakar', 'manjeet', 'Sameer', 'kiran sahu', 'Virat Choudhary']\n",
      "['Gopal Mishra', 'shekhawat', 'kiran sahu', 'anu', 'ravish kumar', 'pooja', 'prabhakar', 'Surendra Mahara', 'Khushdeep']\n",
      "['Sameer', 'anu', 'shekhawat', 'Rajesh Yadav', 'prabhakar', 'Gopal Mishra', 'kiran sahu', 'pooja', 'Surendra Mahara']\n",
      "['kiran sahu', 'pooja', 'manjeet', 'prabhakar', 'Rajesh Yadav', 'anu', 'Khushdeep', 'Surendra Mahara', 'Sameer']\n",
      "['manjeet', 'kiran sahu', 'anu', 'Khushdeep', 'Author4', 'prabhakar', 'Virat Choudhary', 'Sameer', 'Gopal Mishra']\n",
      "['Surendra Mahara', 'Rajesh Yadav', 'Virat Choudhary', 'Gopal Mishra', 'pooja', 'kiran sahu', 'anu', 'prabhakar', 'shekhawat']\n",
      "['Surendra Mahara', 'anu', 'ravish kumar', 'Sameer', 'Gopal Mishra', 'Khushdeep', 'manjeet', 'Author4', 'shekhawat']\n",
      "['Author4', 'kiran sahu', 'prabhakar', 'shekhawat', 'Khushdeep', 'Gopal Mishra', 'anu', 'manjeet', 'ravish kumar']\n",
      "['Khushdeep', 'Gopal Mishra', 'ravish kumar', 'Sameer', 'pooja', 'manjeet', 'shekhawat', 'anu', 'Surendra Mahara']\n",
      "['Gopal Mishra', 'manjeet', 'kiran sahu', 'prabhakar', 'anu', 'Khushdeep', 'Surendra Mahara', 'Author4', 'Sameer']\n",
      "['prabhakar', 'Gopal Mishra', 'Sameer', 'anu', 'ravish kumar', 'pooja', 'Author4', 'kiran sahu', 'Rajesh Yadav']\n",
      "['Author4', 'pooja', 'Sameer', 'Gopal Mishra', 'Surendra Mahara', 'Virat Choudhary', 'Rajesh Yadav', 'ravish kumar', 'shekhawat']\n",
      "['kiran sahu', 'Khushdeep', 'Sameer', 'manjeet', 'shekhawat', 'Surendra Mahara', 'prabhakar', 'Virat Choudhary', 'Rajesh Yadav']\n",
      "['ravish kumar', 'Virat Choudhary', 'Rajesh Yadav', 'pooja', 'Author4', 'Sameer', 'Khushdeep', 'kiran sahu', 'anu']\n",
      "['prabhakar', 'pooja', 'Khushdeep', 'Surendra Mahara', 'ravish kumar', 'Virat Choudhary', 'anu', 'Author4', 'kiran sahu']\n",
      "['prabhakar', 'Surendra Mahara', 'Khushdeep', 'Rajesh Yadav', 'anu', 'ravish kumar', 'kiran sahu', 'Sameer', 'pooja']\n",
      "['Gopal Mishra', 'Surendra Mahara', 'anu', 'Sameer', 'Virat Choudhary', 'prabhakar', 'pooja', 'ravish kumar', 'kiran sahu']\n",
      "['pooja', 'Khushdeep', 'prabhakar', 'Rajesh Yadav', 'Virat Choudhary', 'manjeet', 'shekhawat', 'Gopal Mishra', 'Sameer']\n",
      "['pooja', 'shekhawat', 'anu', 'prabhakar', 'Sameer', 'Gopal Mishra', 'Rajesh Yadav', 'ravish kumar', 'Author4']\n",
      "['ravish kumar', 'Author4', 'shekhawat', 'Rajesh Yadav', 'Khushdeep', 'prabhakar', 'pooja', 'Sameer', 'Virat Choudhary']\n",
      "['Khushdeep', 'shekhawat', 'Surendra Mahara', 'Rajesh Yadav', 'ravish kumar', 'anu', 'Sameer', 'Virat Choudhary', 'Author4', 'pooja']\n",
      "['Rajesh Yadav', 'Khushdeep', 'manjeet', 'ravish kumar', 'Virat Choudhary', 'Sameer', 'Gopal Mishra', 'kiran sahu', 'Surendra Mahara', 'prabhakar']\n",
      "['kiran sahu', 'manjeet', 'Khushdeep', 'ravish kumar', 'prabhakar', 'Rajesh Yadav', 'Sameer', 'Virat Choudhary', 'shekhawat', 'Gopal Mishra']\n",
      "['Virat Choudhary', 'prabhakar', 'ravish kumar', 'Author4', 'Rajesh Yadav', 'manjeet', 'pooja', 'shekhawat', 'kiran sahu', 'Gopal Mishra']\n",
      "['pooja', 'shekhawat', 'prabhakar', 'Author4', 'manjeet', 'kiran sahu', 'anu', 'Surendra Mahara', 'Rajesh Yadav', 'Sameer']\n",
      "['shekhawat', 'kiran sahu', 'prabhakar', 'Khushdeep', 'Virat Choudhary', 'ravish kumar', 'Sameer', 'manjeet', 'Surendra Mahara', 'Gopal Mishra']\n",
      "['Sameer', 'kiran sahu', 'Khushdeep', 'prabhakar', 'Virat Choudhary', 'pooja', 'Surendra Mahara', 'ravish kumar', 'Gopal Mishra', 'Author4']\n",
      "['Surendra Mahara', 'Rajesh Yadav', 'manjeet', 'anu', 'prabhakar', 'Gopal Mishra', 'kiran sahu', 'shekhawat', 'Virat Choudhary', 'Author4']\n",
      "['manjeet', 'Author4', 'Rajesh Yadav', 'shekhawat', 'Surendra Mahara', 'ravish kumar', 'prabhakar', 'Virat Choudhary', 'Khushdeep', 'anu']\n",
      "['pooja', 'Virat Choudhary', 'Khushdeep', 'kiran sahu', 'Surendra Mahara', 'Gopal Mishra', 'Author4', 'prabhakar', 'Sameer', 'shekhawat']\n",
      "['pooja', 'anu', 'kiran sahu', 'Surendra Mahara', 'shekhawat', 'Sameer', 'Rajesh Yadav', 'Khushdeep', 'Virat Choudhary', 'Gopal Mishra']\n",
      "['Khushdeep', 'pooja', 'Gopal Mishra', 'anu', 'ravish kumar', 'kiran sahu', 'Virat Choudhary', 'shekhawat', 'Rajesh Yadav', 'manjeet']\n",
      "['pooja', 'Surendra Mahara', 'prabhakar', 'kiran sahu', 'Rajesh Yadav', 'Author4', 'shekhawat', 'Khushdeep', 'Gopal Mishra', 'Virat Choudhary']\n",
      "['kiran sahu', 'Gopal Mishra', 'shekhawat', 'Khushdeep', 'Rajesh Yadav', 'pooja', 'Author4', 'prabhakar', 'Sameer', 'anu']\n",
      "['kiran sahu', 'pooja', 'manjeet', 'prabhakar', 'ravish kumar', 'Sameer', 'Author4', 'Surendra Mahara', 'anu', 'Virat Choudhary']\n",
      "['manjeet', 'Surendra Mahara', 'ravish kumar', 'Rajesh Yadav', 'Gopal Mishra', 'shekhawat', 'Khushdeep', 'Author4', 'pooja', 'Virat Choudhary']\n",
      "['Virat Choudhary', 'Rajesh Yadav', 'prabhakar', 'Author4', 'Khushdeep', 'manjeet', 'Surendra Mahara', 'shekhawat', 'Sameer', 'Gopal Mishra']\n",
      "['prabhakar', 'Sameer', 'ravish kumar', 'Rajesh Yadav', 'anu', 'Surendra Mahara', 'kiran sahu', 'pooja', 'manjeet', 'shekhawat']\n",
      "['shekhawat', 'Rajesh Yadav', 'manjeet', 'pooja', 'Khushdeep', 'Gopal Mishra', 'kiran sahu', 'prabhakar', 'Virat Choudhary', 'Surendra Mahara']\n",
      "['Virat Choudhary', 'Gopal Mishra', 'Surendra Mahara', 'shekhawat', 'Khushdeep', 'Rajesh Yadav', 'Author4', 'prabhakar', 'pooja', 'kiran sahu']\n",
      "['kiran sahu', 'Virat Choudhary', 'shekhawat', 'anu', 'Rajesh Yadav', 'Sameer', 'Gopal Mishra', 'manjeet', 'pooja', 'ravish kumar', 'Surendra Mahara']\n",
      "['ravish kumar', 'Surendra Mahara', 'Author4', 'Sameer', 'manjeet', 'Gopal Mishra', 'anu', 'shekhawat', 'Virat Choudhary', 'Khushdeep', 'kiran sahu']\n",
      "['Sameer', 'shekhawat', 'Surendra Mahara', 'manjeet', 'pooja', 'Rajesh Yadav', 'Virat Choudhary', 'anu', 'kiran sahu', 'prabhakar', 'ravish kumar']\n",
      "['pooja', 'prabhakar', 'Gopal Mishra', 'manjeet', 'Sameer', 'Author4', 'Surendra Mahara', 'kiran sahu', 'Virat Choudhary', 'anu', 'ravish kumar']\n",
      "['Sameer', 'anu', 'Surendra Mahara', 'shekhawat', 'prabhakar', 'Khushdeep', 'Virat Choudhary', 'Author4', 'ravish kumar', 'Rajesh Yadav', 'Gopal Mishra']\n",
      "['shekhawat', 'Khushdeep', 'Surendra Mahara', 'ravish kumar', 'anu', 'pooja', 'Author4', 'kiran sahu', 'manjeet', 'Sameer', 'prabhakar']\n",
      "['pooja', 'Author4', 'kiran sahu', 'Gopal Mishra', 'Surendra Mahara', 'Virat Choudhary', 'manjeet', 'anu', 'Rajesh Yadav', 'prabhakar', 'Sameer']\n",
      "['Author4', 'prabhakar', 'manjeet', 'Sameer', 'ravish kumar', 'Virat Choudhary', 'Rajesh Yadav', 'Surendra Mahara', 'pooja', 'kiran sahu', 'Khushdeep']\n",
      "['Surendra Mahara', 'Khushdeep', 'Author4', 'prabhakar', 'ravish kumar', 'pooja', 'manjeet', 'Rajesh Yadav', 'Virat Choudhary', 'shekhawat', 'anu']\n",
      "['ravish kumar', 'pooja', 'shekhawat', 'prabhakar', 'Rajesh Yadav', 'Khushdeep', 'kiran sahu', 'Surendra Mahara', 'Virat Choudhary', 'Author4', 'Sameer']\n",
      "['Sameer', 'shekhawat', 'ravish kumar', 'anu', 'Rajesh Yadav', 'Khushdeep', 'manjeet', 'Surendra Mahara', 'Virat Choudhary', 'kiran sahu', 'Author4']\n",
      "['prabhakar', 'Surendra Mahara', 'pooja', 'Author4', 'Gopal Mishra', 'Virat Choudhary', 'shekhawat', 'anu', 'Khushdeep', 'kiran sahu', 'Sameer']\n",
      "['prabhakar', 'Virat Choudhary', 'Author4', 'Surendra Mahara', 'pooja', 'Gopal Mishra', 'Rajesh Yadav', 'shekhawat', 'anu', 'Sameer', 'manjeet']\n",
      "['kiran sahu', 'Khushdeep', 'Surendra Mahara', 'Rajesh Yadav', 'anu', 'Sameer', 'manjeet', 'shekhawat', 'pooja', 'ravish kumar', 'Virat Choudhary']\n",
      "['Sameer', 'Khushdeep', 'Surendra Mahara', 'ravish kumar', 'Author4', 'Rajesh Yadav', 'pooja', 'anu', 'kiran sahu', 'manjeet', 'Virat Choudhary']\n",
      "['shekhawat', 'Khushdeep', 'Sameer', 'kiran sahu', 'Author4', 'manjeet', 'Gopal Mishra', 'Surendra Mahara', 'anu', 'ravish kumar', 'prabhakar']\n"
     ]
    },
    {
     "name": "stdout",
     "output_type": "stream",
     "text": [
      "['Rajesh Yadav', 'Author4', 'ravish kumar', 'kiran sahu', 'Gopal Mishra', 'manjeet', 'Virat Choudhary', 'Khushdeep', 'Surendra Mahara', 'prabhakar', 'pooja']\n",
      "['ravish kumar', 'shekhawat', 'anu', 'pooja', 'Sameer', 'Author4', 'manjeet', 'kiran sahu', 'Rajesh Yadav', 'prabhakar', 'Gopal Mishra']\n",
      "['Sameer', 'shekhawat', 'prabhakar', 'Surendra Mahara', 'Gopal Mishra', 'manjeet', 'kiran sahu', 'Author4', 'Virat Choudhary', 'pooja', 'Khushdeep']\n",
      "['Sameer', 'prabhakar', 'Surendra Mahara', 'Rajesh Yadav', 'Gopal Mishra', 'manjeet', 'kiran sahu', 'shekhawat', 'Virat Choudhary', 'pooja', 'Khushdeep']\n",
      "['Virat Choudhary', 'Surendra Mahara', 'Author4', 'Sameer', 'pooja', 'shekhawat', 'Rajesh Yadav', 'Khushdeep', 'ravish kumar', 'manjeet', 'Gopal Mishra', 'prabhakar']\n",
      "['Khushdeep', 'Sameer', 'Surendra Mahara', 'prabhakar', 'Rajesh Yadav', 'Virat Choudhary', 'shekhawat', 'kiran sahu', 'Author4', 'Gopal Mishra', 'ravish kumar', 'anu']\n",
      "['kiran sahu', 'Khushdeep', 'shekhawat', 'anu', 'Rajesh Yadav', 'Surendra Mahara', 'manjeet', 'Gopal Mishra', 'Sameer', 'Virat Choudhary', 'ravish kumar', 'Author4']\n",
      "['prabhakar', 'anu', 'Virat Choudhary', 'pooja', 'manjeet', 'ravish kumar', 'Surendra Mahara', 'kiran sahu', 'Khushdeep', 'Gopal Mishra', 'Rajesh Yadav', 'shekhawat']\n",
      "['prabhakar', 'pooja', 'Khushdeep', 'manjeet', 'Sameer', 'Surendra Mahara', 'anu', 'Gopal Mishra', 'Author4', 'ravish kumar', 'Virat Choudhary', 'Rajesh Yadav']\n",
      "['manjeet', 'Gopal Mishra', 'prabhakar', 'anu', 'shekhawat', 'Sameer', 'Khushdeep', 'Author4', 'ravish kumar', 'Surendra Mahara', 'Virat Choudhary', 'Rajesh Yadav']\n",
      "['manjeet', 'prabhakar', 'anu', 'Surendra Mahara', 'Khushdeep', 'Gopal Mishra', 'Virat Choudhary', 'pooja', 'Sameer', 'Author4', 'ravish kumar', 'kiran sahu']\n",
      "['Surendra Mahara', 'pooja', 'prabhakar', 'Khushdeep', 'Virat Choudhary', 'Rajesh Yadav', 'Sameer', 'Gopal Mishra', 'manjeet', 'Author4', 'ravish kumar', 'shekhawat']\n",
      "['Gopal Mishra', 'manjeet', 'shekhawat', 'pooja', 'prabhakar', 'Author4', 'anu', 'Khushdeep', 'Virat Choudhary', 'Rajesh Yadav', 'Sameer', 'Surendra Mahara']\n",
      "['prabhakar', 'pooja', 'Virat Choudhary', 'Rajesh Yadav', 'Gopal Mishra', 'Surendra Mahara', 'ravish kumar', 'anu', 'shekhawat', 'Khushdeep', 'manjeet', 'Author4']\n",
      "['Rajesh Yadav', 'pooja', 'Surendra Mahara', 'prabhakar', 'Sameer', 'kiran sahu', 'manjeet', 'Author4', 'shekhawat', 'Virat Choudhary', 'anu', 'ravish kumar']\n",
      "['manjeet', 'shekhawat', 'kiran sahu', 'pooja', 'Author4', 'ravish kumar', 'Sameer', 'prabhakar', 'anu', 'Surendra Mahara', 'Rajesh Yadav', 'Gopal Mishra']\n",
      "['Khushdeep', 'ravish kumar', 'Sameer', 'pooja', 'Author4', 'prabhakar', 'shekhawat', 'Surendra Mahara', 'kiran sahu', 'Gopal Mishra', 'Virat Choudhary', 'manjeet']\n",
      "['kiran sahu', 'Sameer', 'shekhawat', 'Gopal Mishra', 'Khushdeep', 'Rajesh Yadav', 'Surendra Mahara', 'Author4', 'manjeet', 'ravish kumar', 'Virat Choudhary', 'prabhakar']\n",
      "['Gopal Mishra', 'pooja', 'ravish kumar', 'prabhakar', 'Surendra Mahara', 'shekhawat', 'Author4', 'Virat Choudhary', 'kiran sahu', 'Rajesh Yadav', 'anu', 'Sameer']\n",
      "['Gopal Mishra', 'Surendra Mahara', 'Author4', 'ravish kumar', 'Khushdeep', 'Virat Choudhary', 'anu', 'Sameer', 'manjeet', 'kiran sahu', 'Rajesh Yadav', 'prabhakar']\n",
      "['Sameer', 'Gopal Mishra', 'pooja', 'Author4', 'Khushdeep', 'manjeet', 'Surendra Mahara', 'prabhakar', 'ravish kumar', 'Virat Choudhary', 'anu', 'kiran sahu']\n",
      "['Sameer', 'ravish kumar', 'anu', 'pooja', 'Gopal Mishra', 'Author4', 'manjeet', 'shekhawat', 'kiran sahu', 'Surendra Mahara', 'Khushdeep', 'prabhakar']\n",
      "['pooja', 'Rajesh Yadav', 'anu', 'Sameer', 'ravish kumar', 'Virat Choudhary', 'Author4', 'Surendra Mahara', 'manjeet', 'Khushdeep', 'kiran sahu', 'shekhawat']\n",
      "['pooja', 'prabhakar', 'Virat Choudhary', 'manjeet', 'Sameer', 'Khushdeep', 'Surendra Mahara', 'Rajesh Yadav', 'Author4', 'kiran sahu', 'shekhawat', 'ravish kumar']\n",
      "['shekhawat', 'kiran sahu', 'ravish kumar', 'Virat Choudhary', 'Surendra Mahara', 'Rajesh Yadav', 'manjeet', 'Khushdeep', 'anu', 'Author4', 'prabhakar', 'Gopal Mishra', 'pooja']\n",
      "['Gopal Mishra', 'Rajesh Yadav', 'Sameer', 'Virat Choudhary', 'kiran sahu', 'manjeet', 'Khushdeep', 'anu', 'pooja', 'Surendra Mahara', 'Author4', 'prabhakar', 'ravish kumar']\n",
      "['Surendra Mahara', 'manjeet', 'anu', 'kiran sahu', 'prabhakar', 'shekhawat', 'pooja', 'Khushdeep', 'Author4', 'Gopal Mishra', 'ravish kumar', 'Virat Choudhary', 'Sameer']\n",
      "['Rajesh Yadav', 'shekhawat', 'Sameer', 'kiran sahu', 'manjeet', 'Author4', 'Surendra Mahara', 'pooja', 'Khushdeep', 'Virat Choudhary', 'Gopal Mishra', 'prabhakar', 'ravish kumar']\n",
      "['Author4', 'Gopal Mishra', 'Surendra Mahara', 'kiran sahu', 'Khushdeep', 'shekhawat', 'anu', 'Rajesh Yadav', 'manjeet', 'ravish kumar', 'Virat Choudhary', 'Sameer', 'prabhakar']\n",
      "['pooja', 'Surendra Mahara', 'prabhakar', 'Sameer', 'Author4', 'shekhawat', 'ravish kumar', 'anu', 'Khushdeep', 'Gopal Mishra', 'Rajesh Yadav', 'manjeet', 'Virat Choudhary']\n",
      "['Author4', 'kiran sahu', 'Surendra Mahara', 'ravish kumar', 'prabhakar', 'Rajesh Yadav', 'Khushdeep', 'pooja', 'anu', 'Gopal Mishra', 'shekhawat', 'Sameer', 'manjeet']\n",
      "['Sameer', 'prabhakar', 'Surendra Mahara', 'Rajesh Yadav', 'shekhawat', 'ravish kumar', 'anu', 'Author4', 'Virat Choudhary', 'kiran sahu', 'Khushdeep', 'pooja', 'manjeet']\n",
      "['pooja', 'Virat Choudhary', 'prabhakar', 'ravish kumar', 'manjeet', 'Gopal Mishra', 'Khushdeep', 'kiran sahu', 'anu', 'Author4', 'Rajesh Yadav', 'shekhawat', 'Surendra Mahara']\n",
      "['Gopal Mishra', 'kiran sahu', 'shekhawat', 'Sameer', 'manjeet', 'Khushdeep', 'Author4', 'ravish kumar', 'Virat Choudhary', 'Surendra Mahara', 'Rajesh Yadav', 'pooja', 'prabhakar']\n",
      "['Surendra Mahara', 'manjeet', 'Author4', 'prabhakar', 'Sameer', 'Virat Choudhary', 'shekhawat', 'anu', 'Gopal Mishra', 'pooja', 'Rajesh Yadav', 'ravish kumar', 'kiran sahu']\n",
      "['Rajesh Yadav', 'Sameer', 'Author4', 'anu', 'Khushdeep', 'manjeet', 'Virat Choudhary', 'Gopal Mishra', 'Surendra Mahara', 'kiran sahu', 'ravish kumar', 'pooja', 'shekhawat']\n",
      "['manjeet', 'ravish kumar', 'Rajesh Yadav', 'Surendra Mahara', 'anu', 'Gopal Mishra', 'Sameer', 'shekhawat', 'Khushdeep', 'kiran sahu', 'Virat Choudhary', 'Author4', 'prabhakar']\n",
      "['anu', 'Sameer', 'Surendra Mahara', 'shekhawat', 'Gopal Mishra', 'Rajesh Yadav', 'ravish kumar', 'pooja', 'manjeet', 'kiran sahu', 'Virat Choudhary', 'Khushdeep', 'prabhakar']\n",
      "['manjeet', 'kiran sahu', 'Sameer', 'anu', 'shekhawat', 'Gopal Mishra', 'Surendra Mahara', 'pooja', 'Rajesh Yadav', 'Virat Choudhary', 'Author4', 'Khushdeep', 'prabhakar', 'ravish kumar']\n"
     ]
    }
   ],
   "source": [
    "path='/mnt/A042994142991CDA/Hindi_train/'\n",
    "svm_scores=[]\n",
    "random_forest_scores=[]\n",
    "svm_times=[]\n",
    "random_forest_times=[]\n",
    "\n",
    "\n",
    "start=chr(0x900)                    # 0x900 is the unicode point of first character of hindi alphabet\n",
    "end=chr(0x97F)                      # 0x900 is the unicode point of last character of hindi alphabet\n",
    "\n",
    "\n",
    "vectorizer=CountVectorizer(token_pattern=\"[\"+start+\"-\"+end+\"]+\",min_df = 0)\n",
    "\n",
    "\n",
    "for i in range(3,15):\n",
    "    iterations=0\n",
    "    x=int(sp.comb(14,i))\n",
    "    if(x>20):\n",
    "        iterations=20\n",
    "    else:\n",
    "        iterations=x\n",
    "    \n",
    "    x1=0\n",
    "    x2=0\n",
    "    y1=0\n",
    "    y2=0\n",
    "    for a in range(iterations):\n",
    "        random_list=random.sample(range(14),i)\n",
    "        train_data_X,train_data_Y,length=helper.prepare_data(authors_to_consider=random_list,vectorizer=vectorizer,add_features='yes',path=path,no_of_authors=i)\n",
    "\n",
    "    \n",
    "        helper.text_normalise(train_data_X,length)  #tf-idf normalisation\n",
    "        helper.feature_normalise(train_data_X)      #normalisation for machine learning algo\n",
    "\n",
    "        a,b,c,d=helper.learn(train_data_X,train_data_Y)\n",
    "        x1+=a\n",
    "        x2+=b\n",
    "        y1+=c\n",
    "        y2+=d\n",
    "        \n",
    "    x1=x1/iterations\n",
    "    x2=x2/iterations\n",
    "    y1=y1/iterations\n",
    "    y2=y2/iterations\n",
    "    \n",
    "    svm_scores+=[x1]\n",
    "    svm_times+=[x2]\n",
    "    random_forest_scores+=[y1]\n",
    "    random_forest_times+=[y2]\n",
    "    \n",
    "\n"
   ]
  },
  {
   "cell_type": "code",
   "execution_count": 3,
   "metadata": {},
   "outputs": [
    {
     "data": {
      "text/plain": [
       "[0.7928571428571429,\n",
       " 0.7776785714285714,\n",
       " 0.7485714285714287,\n",
       " 0.7351190476190477,\n",
       " 0.7255102040816327,\n",
       " 0.6955357142857143,\n",
       " 0.6984126984126983,\n",
       " 0.655,\n",
       " 0.651948051948052,\n",
       " 0.6297619047619047,\n",
       " 0.6087127158555729,\n",
       " 0.5969387755102041]"
      ]
     },
     "execution_count": 3,
     "metadata": {},
     "output_type": "execute_result"
    }
   ],
   "source": [
    "svm_scores"
   ]
  },
  {
   "cell_type": "code",
   "execution_count": 5,
   "metadata": {},
   "outputs": [
    {
     "data": {
      "text/plain": [
       "[<matplotlib.lines.Line2D at 0x7f9a16f471d0>]"
      ]
     },
     "execution_count": 5,
     "metadata": {},
     "output_type": "execute_result"
    },
    {
     "data": {
      "image/png": "[encoded data removed]",
      "text/plain": [
       "<matplotlib.figure.Figure at 0x7f9a41e82f60>"
      ]
     },
     "metadata": {},
     "output_type": "display_data"
    }
   ],
   "source": [
    "import matplotlib.pyplot as plt\n",
    "%matplotlib inline\n",
    "plt.plot([x for x in range(3,15)],random_forest_scores)"
   ]
  },
  {
   "cell_type": "code",
   "execution_count": 7,
   "metadata": {},
   "outputs": [
    {
     "data": {
      "text/plain": [
       "[<matplotlib.lines.Line2D at 0x7f9a16e35518>]"
      ]
     },
     "execution_count": 7,
     "metadata": {},
     "output_type": "execute_result"
    },
    {
     "data": {
      "image/png": "[encoded data removed]",
      "text/plain": [
       "<matplotlib.figure.Figure at 0x7f9a16f30a58>"
      ]
     },
     "metadata": {},
     "output_type": "display_data"
    }
   ],
   "source": [
    "plt.plot([x for x in range(3,15)],svm_scores)"
   ]
  },
  {
   "cell_type": "code",
   "execution_count": null,
   "metadata": {},
   "outputs": [],
   "source": []
  },
  {
   "cell_type": "code",
   "execution_count": null,
   "metadata": {},
   "outputs": [],
   "source": []
  },
  {
   "cell_type": "code",
   "execution_count": null,
   "metadata": {},
   "outputs": [],
   "source": []
  }
 ],
 "metadata": {
  "kernelspec": {
   "display_name": "Python 3",
   "language": "python",
   "name": "python3"
  },
  "language_info": {
   "codemirror_mode": {
    "name": "ipython",
    "version": 3
   },
   "file_extension": ".py",
   "mimetype": "text/x-python",
   "name": "python",
   "nbconvert_exporter": "python",
   "pygments_lexer": "ipython3",
   "version": "3.6.4"
  }
 },
 "nbformat": 4,
 "nbformat_minor": 2
}
