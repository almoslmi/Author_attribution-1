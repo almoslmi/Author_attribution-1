{
 "cells": [
  {
   "cell_type": "code",
   "execution_count": 1,
   "metadata": {},
   "outputs": [
    {
     "name": "stdout",
     "output_type": "stream",
     "text": [
      "svm\n",
      "84.29 +- 4.84\n",
      "4.8389753111891975\n",
      "\n",
      "\n",
      "RandomForest\n",
      "91.57 +- 3.59\n",
      "3.5871832955263874\n",
      "\n",
      "\n",
      "knn\n",
      "78.64 +- 6.38\n",
      "6.379932960127796\n",
      "\n",
      "\n",
      "LogisticRegression\n",
      "90.6 +- 4.69\n",
      "4.694902050432774\n",
      "\n",
      "\n",
      "NaiveBayes\n",
      "90.35 +- 6.07\n",
      "6.072153870874727\n",
      "\n",
      "\n"
     ]
    },
    {
     "data": {
      "text/plain": [
       "<matplotlib.figure.Figure at 0x7fcfc0e24eb8>"
      ]
     },
     "metadata": {},
     "output_type": "display_data"
    }
   ],
   "source": [
    "import pandas as pd\n",
    "import matplotlib.pyplot as plt\n",
    "import numpy as np\n",
    "\n",
    "\n",
    "#plt.plot([x for x in range(3,15)],random_forest_scores)\n",
    "\n",
    "bow = pd.read_csv(\"bag of words/results for 5 authors\")\n",
    "\n",
    "algo_name=[]\n",
    "algo_scores=[]\n",
    "for x in range(5):\n",
    "    index=[5*i+x for i in range(20)]\n",
    "    temp=bow.iloc[index]\n",
    "    print(temp.iloc[index[0]][0])\n",
    "    temp.iloc[index[0]][0]\n",
    "    algo_name+=[temp.iloc[index[0]][0]]\n",
    "    \n",
    "    print(str(round(temp.mean()[0]*100,2))+\" +- \"+str(round(temp.std()[0]*100,2)))\n",
    "    algo_scores+=[temp.mean()[0]*100-round(temp.std()[0]*100,2)]\n",
    "    print(temp.std()[0]*100)\n",
    "    \n",
    "    print(\"\\n\")\n",
    "\n",
    "\n",
    "\n",
    "algo_scores=np.array(algo_scores)\n",
    "max_index=np.argmax(algo_scores)\n",
    "\n",
    "plt.figure(figsize=(5,3))\n",
    "plt.suptitle('Bag of words', fontsize=20)\n",
    "graph=plt.bar(algo_name,algo_scores,align='center',label='bag_of_words')\n",
    "graph[max_index].set_color('r')\n",
    "plt.xticks(rotation='vertical')\n",
    "plt.show()\n"
   ]
  },
  {
   "cell_type": "code",
   "execution_count": 2,
   "metadata": {},
   "outputs": [
    {
     "name": "stdout",
     "output_type": "stream",
     "text": [
      "svm\n",
      "90.07 +- 4.36\n",
      "4.359638136719196\n",
      "\n",
      "\n",
      "RandomForest\n",
      "91.79 +- 3.79\n",
      "3.790286641524549\n",
      "\n",
      "\n",
      "knn\n",
      "75.79 +- 5.93\n",
      "5.926057080738219\n",
      "\n",
      "\n",
      "LogisticRegression\n",
      "90.5 +- 5.39\n",
      "5.385164807134503\n",
      "\n",
      "\n",
      "NaiveBayes\n",
      "92.75 +- 6.62\n",
      "6.624317243865091\n",
      "\n",
      "\n"
     ]
    },
    {
     "data": {
      "image/png": "[encoded data removed]",
      "text/plain": [
       "<matplotlib.figure.Figure at 0x7fcf971e72e8>"
      ]
     },
     "metadata": {},
     "output_type": "display_data"
    }
   ],
   "source": [
    "bow = pd.read_csv(\"bigrams/results for 5 authors\")\n",
    "\n",
    "algo_name=[]\n",
    "algo_scores=[]\n",
    "for x in range(5):\n",
    "    index=[5*i+x for i in range(20)]\n",
    "    temp=bow.iloc[index]\n",
    "    print(temp.iloc[index[0]][0])\n",
    "    temp.iloc[index[0]][0]\n",
    "    algo_name+=[temp.iloc[index[0]][0]]\n",
    "    \n",
    "    print(str(round(temp.mean()[0]*100,2))+\" +- \"+str(round(temp.std()[0]*100,2)))\n",
    "    algo_scores+=[temp.mean()[0]*100-round(temp.std()[0]*100,2)]\n",
    "    print(temp.std()[0]*100)\n",
    "    \n",
    "    print(\"\\n\")\n",
    "\n",
    "\n",
    "\n",
    "algo_scores=np.array(algo_scores)\n",
    "max_index=np.argmax(algo_scores)\n",
    "\n",
    "plt.figure(figsize=(5,3))\n",
    "plt.suptitle('Bigrams', fontsize=20)\n",
    "graph=plt.bar(algo_name,algo_scores,align='center',label='bag_of_words')\n",
    "graph[max_index].set_color('r')\n",
    "plt.xticks(rotation='vertical')\n",
    "plt.show()\n",
    "\n"
   ]
  },
  {
   "cell_type": "code",
   "execution_count": 3,
   "metadata": {},
   "outputs": [
    {
     "name": "stdout",
     "output_type": "stream",
     "text": [
      "svm\n",
      "89.79 +- 3.63\n",
      "3.6281214569143705\n",
      "\n",
      "\n",
      "RandomForest\n",
      "93.43 +- 3.42\n",
      "3.4185316663778207\n",
      "\n",
      "\n",
      "knn\n",
      "75.79 +- 6.48\n",
      "6.480160584662044\n",
      "\n",
      "\n",
      "LogisticRegression\n",
      "92.1 +- 4.38\n",
      "4.375770608824534\n",
      "\n",
      "\n",
      "NaiveBayes\n",
      "94.1 +- 5.62\n",
      "5.6185782056167515\n",
      "\n",
      "\n"
     ]
    },
    {
     "data": {
      "image/png": "[encoded data removed]",
      "text/plain": [
       "<matplotlib.figure.Figure at 0x7fcf971f1a90>"
      ]
     },
     "metadata": {},
     "output_type": "display_data"
    }
   ],
   "source": [
    "bow = pd.read_csv(\"trigrams/results for 5 authors\")\n",
    "\n",
    "algo_name=[]\n",
    "algo_scores=[]\n",
    "for x in range(5):\n",
    "    index=[5*i+x for i in range(20)]\n",
    "    temp=bow.iloc[index]\n",
    "    print(temp.iloc[index[0]][0])\n",
    "    temp.iloc[index[0]][0]\n",
    "    algo_name+=[temp.iloc[index[0]][0]]\n",
    "    \n",
    "    print(str(round(temp.mean()[0]*100,2))+\" +- \"+str(round(temp.std()[0]*100,2)))\n",
    "    algo_scores+=[temp.mean()[0]*100-round(temp.std()[0]*100,2)]\n",
    "    print(temp.std()[0]*100)\n",
    "    \n",
    "    print(\"\\n\")\n",
    "\n",
    "\n",
    "\n",
    "algo_scores=np.array(algo_scores)\n",
    "max_index=np.argmax(algo_scores)\n",
    "\n",
    "plt.figure(figsize=(5,3))\n",
    "plt.suptitle('Trigrams', fontsize=20)\n",
    "graph=plt.bar(algo_name,algo_scores,align='center',label='bag_of_words')\n",
    "graph[max_index].set_color('r')\n",
    "plt.xticks(rotation='vertical')\n",
    "plt.show()\n",
    "\n"
   ]
  },
  {
   "cell_type": "code",
   "execution_count": 4,
   "metadata": {},
   "outputs": [
    {
     "name": "stdout",
     "output_type": "stream",
     "text": [
      "svm\n",
      "87.93 +- 5.15\n",
      "5.150266175220231\n",
      "\n",
      "\n",
      "RandomForest\n",
      "91.43 +- 4.3\n",
      "4.298227346753821\n",
      "\n",
      "\n",
      "knn\n",
      "73.93 +- 6.67\n",
      "6.6664428891909235\n",
      "\n",
      "\n",
      "LogisticRegression\n",
      "88.95 +- 5.67\n",
      "5.67056109727201\n",
      "\n",
      "\n",
      "NaiveBayes\n",
      "90.35 +- 6.72\n",
      "6.722115894959201\n",
      "\n",
      "\n"
     ]
    },
    {
     "data": {
      "image/png": "[encoded data removed]",
      "text/plain": [
       "<matplotlib.figure.Figure at 0x7fcf9f7b4b00>"
      ]
     },
     "metadata": {},
     "output_type": "display_data"
    }
   ],
   "source": [
    "bow = pd.read_csv(\"bi_trigrams/results for 5 authors\")\n",
    "\n",
    "algo_name=[]\n",
    "algo_scores=[]\n",
    "for x in range(5):\n",
    "    index=[5*i+x for i in range(20)]\n",
    "    temp=bow.iloc[index]\n",
    "    print(temp.iloc[index[0]][0])\n",
    "    temp.iloc[index[0]][0]\n",
    "    algo_name+=[temp.iloc[index[0]][0]]\n",
    "    \n",
    "    print(str(round(temp.mean()[0]*100,2))+\" +- \"+str(round(temp.std()[0]*100,2)))\n",
    "    algo_scores+=[temp.mean()[0]*100-round(temp.std()[0]*100,2)]\n",
    "    print(temp.std()[0]*100)\n",
    "    \n",
    "    print(\"\\n\")\n",
    "\n",
    "\n",
    "\n",
    "algo_scores=np.array(algo_scores)\n",
    "max_index=np.argmax(algo_scores)\n",
    "\n",
    "plt.figure(figsize=(5,3))\n",
    "plt.suptitle('Bigrams and trigrams', fontsize=20)\n",
    "graph=plt.bar(algo_name,algo_scores,align='center',label='bag_of_words')\n",
    "graph[max_index].set_color('r')\n",
    "plt.xticks(rotation='vertical')\n",
    "plt.show()\n",
    "\n"
   ]
  },
  {
   "cell_type": "code",
   "execution_count": 5,
   "metadata": {},
   "outputs": [
    {
     "name": "stdout",
     "output_type": "stream",
     "text": [
      "svm\n",
      "83.29 +- 6.24\n",
      "6.237339486256131\n",
      "\n",
      "\n",
      "RandomForest\n",
      "82.0 +- 5.25\n",
      "5.251975230696097\n",
      "\n",
      "\n",
      "knn\n",
      "74.71 +- 5.73\n",
      "5.734925132277223\n",
      "\n",
      "\n",
      "LogisticRegression\n",
      "82.6 +- 7.9\n",
      "7.8967015099243865\n",
      "\n",
      "\n",
      "NaiveBayes\n",
      "84.45 +- 7.12\n",
      "7.119099588246285\n",
      "\n",
      "\n"
     ]
    },
    {
     "data": {
      "image/png": "[encoded data removed]",
      "text/plain": [
       "<matplotlib.figure.Figure at 0x7fcf972604a8>"
      ]
     },
     "metadata": {},
     "output_type": "display_data"
    }
   ],
   "source": [
    "bow = pd.read_csv(\"function_words/results for 5 authors\")\n",
    "\n",
    "algo_name=[]\n",
    "algo_scores=[]\n",
    "\n",
    "for x in range(5):\n",
    "    index=[5*i+x for i in range(20)]\n",
    "    temp=bow.iloc[index]\n",
    "    print(temp.iloc[index[0]][0])\n",
    "    temp.iloc[index[0]][0]\n",
    "    algo_name+=[temp.iloc[index[0]][0]]\n",
    "    \n",
    "    print(str(round(temp.mean()[0]*100,2))+\" +- \"+str(round(temp.std()[0]*100,2)))\n",
    "    algo_scores+=[temp.mean()[0]*100-round(temp.std()[0]*100,2)]\n",
    "    print(temp.std()[0]*100)\n",
    "    \n",
    "    print(\"\\n\")\n",
    "\n",
    "\n",
    "\n",
    "\n",
    "algo_scores=np.array(algo_scores)\n",
    "max_index=np.argmax(algo_scores)\n",
    "\n",
    "plt.figure(figsize=(5,3))\n",
    "plt.suptitle('Function words', fontsize=20)\n",
    "graph=plt.bar(algo_name,algo_scores,align='center',label='bag_of_words')\n",
    "graph[max_index].set_color('r')\n",
    "plt.xticks(rotation='vertical')\n",
    "plt.show()\n",
    "\n"
   ]
  },
  {
   "cell_type": "code",
   "execution_count": 6,
   "metadata": {},
   "outputs": [
    {
     "name": "stdout",
     "output_type": "stream",
     "text": [
      "svm\n",
      "89.71 +- 4.69\n",
      "4.694764778615711\n",
      "\n",
      "\n",
      "RandomForest\n",
      "91.64 +- 4.1\n",
      "4.100640488601283\n",
      "\n",
      "\n",
      "knn\n",
      "72.86 +- 6.91\n",
      "6.905842107190997\n",
      "\n",
      "\n",
      "LogisticRegression\n",
      "89.4 +- 4.67\n",
      "4.672427521895702\n",
      "\n",
      "\n",
      "NaiveBayes\n",
      "91.65 +- 4.92\n",
      "4.923359999452659\n",
      "\n",
      "\n"
     ]
    },
    {
     "data": {
      "image/png": "[encoded data removed]",
      "text/plain": [
       "<matplotlib.figure.Figure at 0x7fcf970e7b00>"
      ]
     },
     "metadata": {},
     "output_type": "display_data"
    }
   ],
   "source": [
    "bow = pd.read_csv(\"function_words and trigrams/results for 5 authors\")\n",
    "\n",
    "algo_name=[]\n",
    "algo_scores=[]\n",
    "for x in range(5):\n",
    "    index=[5*i+x for i in range(20)]\n",
    "    temp=bow.iloc[index]\n",
    "    print(temp.iloc[index[0]][0])\n",
    "    temp.iloc[index[0]][0]\n",
    "    algo_name+=[temp.iloc[index[0]][0]]\n",
    "    \n",
    "    print(str(round(temp.mean()[0]*100,2))+\" +- \"+str(round(temp.std()[0]*100,2)))\n",
    "    algo_scores+=[temp.mean()[0]*100-round(temp.std()[0]*100,2)]\n",
    "    print(temp.std()[0]*100)\n",
    "    \n",
    "    print(\"\\n\")\n",
    "\n",
    "\n",
    "\n",
    "algo_scores=np.array(algo_scores)\n",
    "max_index=np.argmax(algo_scores)\n",
    "\n",
    "plt.figure(figsize=(5,3))\n",
    "plt.suptitle('Function words and trigrams', fontsize=20)\n",
    "graph=plt.bar(algo_name,algo_scores,align='center',label='bag_of_words')\n",
    "graph[max_index].set_color('r')\n",
    "plt.xticks(rotation='vertical')\n",
    "plt.show()\n",
    "\n",
    "\n"
   ]
  },
  {
   "cell_type": "code",
   "execution_count": 7,
   "metadata": {},
   "outputs": [
    {
     "name": "stdout",
     "output_type": "stream",
     "text": [
      "svm\n",
      "78.37 +- 7.36\n",
      "7.359908574276185\n",
      "\n",
      "\n",
      "RandomForest\n",
      "76.99 +- 6.56\n",
      "6.560392617899486\n",
      "\n",
      "\n",
      "knn\n",
      "60.56 +- 11.6\n",
      "11.596985200727323\n",
      "\n",
      "\n",
      "LogisticRegression\n",
      "77.22 +- 9.43\n",
      "9.428260988281878\n",
      "\n",
      "\n",
      "NaiveBayes\n",
      "82.55 +- 7.6\n",
      "7.59907273506107\n",
      "\n",
      "\n"
     ]
    },
    {
     "data": {
      "image/png": "[encoded data removed]",
      "text/plain": [
       "<matplotlib.figure.Figure at 0x7fcf97059828>"
      ]
     },
     "metadata": {},
     "output_type": "display_data"
    }
   ],
   "source": [
    "bow = pd.read_csv(\"pos_tagging/results for 5 authors\")\n",
    "\n",
    "algo_name=[]\n",
    "algo_scores=[]\n",
    "for x in range(5):\n",
    "    index=[5*i+x for i in range(20)]\n",
    "    temp=bow.iloc[index]\n",
    "    print(temp.iloc[index[0]][0])\n",
    "    temp.iloc[index[0]][0]\n",
    "    algo_name+=[temp.iloc[index[0]][0]]\n",
    "    \n",
    "    print(str(round(temp.mean()[0]*100,2))+\" +- \"+str(round(temp.std()[0]*100,2)))\n",
    "    algo_scores+=[temp.mean()[0]*100-round(temp.std()[0]*100,2)]\n",
    "    print(temp.std()[0]*100)\n",
    "    \n",
    "    print(\"\\n\")\n",
    "\n",
    "\n",
    "algo_scores=np.array(algo_scores)\n",
    "max_index=np.argmax(algo_scores)\n",
    "\n",
    "plt.figure(figsize=(5,3))\n",
    "plt.suptitle('POS tagging', fontsize=20)\n",
    "graph=plt.bar(algo_name,algo_scores,align='center',label='bag_of_words')\n",
    "graph[max_index].set_color('r')\n",
    "plt.xticks(rotation='vertical')\n",
    "plt.show()\n"
   ]
  },
  {
   "cell_type": "code",
   "execution_count": 8,
   "metadata": {},
   "outputs": [
    {
     "name": "stdout",
     "output_type": "stream",
     "text": [
      "svm\n",
      "72.67 +- 5.14\n",
      "5.136652370434913\n",
      "\n",
      "\n",
      "RandomForest\n",
      "76.14 +- 6.07\n",
      "6.0695471081018875\n",
      "\n",
      "\n",
      "knn\n",
      "42.45 +- 8.99\n",
      "8.989525161768992\n",
      "\n",
      "\n",
      "LogisticRegression\n",
      "49.77 +- 10.34\n",
      "10.34441963301275\n",
      "\n",
      "\n",
      "NaiveBayes\n",
      "39.18 +- 7.67\n",
      "7.674271590479741\n",
      "\n",
      "\n"
     ]
    },
    {
     "data": {
      "image/png": "[encoded data removed]",
      "text/plain": [
       "<matplotlib.figure.Figure at 0x7fcf97059400>"
      ]
     },
     "metadata": {},
     "output_type": "display_data"
    }
   ],
   "source": [
    "bow = pd.read_csv(\"secondary_features/results for 5 authors\")\n",
    "\n",
    "algo_name=[]\n",
    "algo_scores=[]\n",
    "for x in range(5):\n",
    "    index=[5*i+x for i in range(20)]\n",
    "    temp=bow.iloc[index]\n",
    "    print(temp.iloc[index[0]][0])\n",
    "    temp.iloc[index[0]][0]\n",
    "    algo_name+=[temp.iloc[index[0]][0]]\n",
    "    \n",
    "    print(str(round(temp.mean()[0]*100,2))+\" +- \"+str(round(temp.std()[0]*100,2)))\n",
    "    algo_scores+=[temp.mean()[0]*100-round(temp.std()[0]*100,2)]\n",
    "    print(temp.std()[0]*100)\n",
    "    \n",
    "    print(\"\\n\")\n",
    "\n",
    "\n",
    "algo_scores=np.array(algo_scores)\n",
    "max_index=np.argmax(algo_scores)\n",
    "\n",
    "plt.figure(figsize=(5,3))\n",
    "plt.suptitle('Secondary features', fontsize=20)\n",
    "graph=plt.bar(algo_name,algo_scores,align='center',label='bag_of_words')\n",
    "graph[max_index].set_color('r')\n",
    "plt.xticks(rotation='vertical')\n",
    "plt.show()\n"
   ]
  },
  {
   "cell_type": "code",
   "execution_count": null,
   "metadata": {},
   "outputs": [],
   "source": []
  }
 ],
 "metadata": {
  "kernelspec": {
   "display_name": "Python 3",
   "language": "python",
   "name": "python3"
  },
  "language_info": {
   "codemirror_mode": {
    "name": "ipython",
    "version": 3
   },
   "file_extension": ".py",
   "mimetype": "text/x-python",
   "name": "python",
   "nbconvert_exporter": "python",
   "pygments_lexer": "ipython3",
   "version": "3.6.4"
  }
 },
 "nbformat": 4,
 "nbformat_minor": 2
}
