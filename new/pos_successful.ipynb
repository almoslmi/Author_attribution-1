{
 "cells": [
  {
   "cell_type": "code",
   "execution_count": 1,
   "metadata": {},
   "outputs": [],
   "source": [
    "from sklearn.feature_extraction.text import CountVectorizer\n",
    "import pandas as pd\n",
    "import os\n",
    "from sklearn import svm, model_selection, tree, preprocessing, metrics\n",
    "from sklearn.model_selection import train_test_split\n",
    "from sklearn.ensemble import RandomForestClassifier\n",
    "import codecs\n",
    "from nltk.probability import FreqDist\n",
    "from sklearn import linear_model\n",
    "from sklearn.model_selection import GridSearchCV\n"
   ]
  },
  {
   "cell_type": "code",
   "execution_count": 2,
   "metadata": {},
   "outputs": [],
   "source": [
    "le=preprocessing.LabelEncoder()\n",
    "train_data_X=pd.read_csv(\"/mnt/A042994142991CDA/pos.txt\")\n",
    "length=[]\n",
    "for i in range(train_data_X.shape[0]):\n",
    "    data=train_data_X.iloc[i,:]\n",
    "    sum=data.sum()\n",
    "    length=length+[sum]\n",
    "    \n",
    "x,y=train_data_X.shape\n",
    "#term frequency normalization\n",
    "train_data_X=train_data_X.div(length,axis=0)\n",
    "train_data_X_=pd.read_csv(\"/mnt/A042994142991CDA/function_bigrams_structural\")\n",
    "train_data_X=pd.concat([train_data_X,train_data_X_],axis=1)\n",
    "\n",
    "\n",
    "\n",
    "path='/mnt/A042994142991CDA/Hindi_train/'\n",
    "authors=os.listdir(path);\n",
    "Y=[]\n",
    "for author in authors:\n",
    "    newpath=path+author+'/'\n",
    "    x=os.listdir(newpath)\n",
    "    for every_file in x:\n",
    "        Y=Y+[author]\n",
    "\n",
    "train_data_Y=le.fit_transform(Y)"
   ]
  },
  {
   "cell_type": "code",
   "execution_count": 3,
   "metadata": {},
   "outputs": [
    {
     "name": "stdout",
     "output_type": "stream",
     "text": [
      "0.9878048780487805\n",
      "0.9512195121951219\n"
     ]
    }
   ],
   "source": [
    "model=[svm.SVC(),RandomForestClassifier()]\n",
    "\n",
    "svm_parameters = [{'kernel': ['rbf'],\n",
    "               'gamma': [1e-4, 1e-3, 0.01, 0.1, 0.2, 0.5],\n",
    "                'C': [1, 10, 100, 1000]},\n",
    "              {'kernel': ['linear'], 'C': [1, 10, 100, 1000]}]\n",
    "\n",
    "Forest_parameters=[{'n_estimators':[1000],'max_depth':[5,6,7,8,9,10]}]\n",
    "       \n",
    "parameters=[svm_parameters,Forest_parameters]\n",
    "\n",
    "best_scores=[]\n",
    "\n",
    "\n",
    "k=0\n",
    "for each_model in model:\n",
    "    parameter=parameters[k]\n",
    "    k+=1\n",
    "    clf=GridSearchCV(each_model,param_grid=parameter,n_jobs=2,cv=10)\n",
    "    clf.fit(train_data_X,train_data_Y)\n",
    "    print(clf.best_score_)\n",
    "\n",
    "\n"
   ]
  }
 ],
 "metadata": {
  "kernelspec": {
   "display_name": "Python 3",
   "language": "python",
   "name": "python3"
  },
  "language_info": {
   "codemirror_mode": {
    "name": "ipython",
    "version": 3
   },
   "file_extension": ".py",
   "mimetype": "text/x-python",
   "name": "python",
   "nbconvert_exporter": "python",
   "pygments_lexer": "ipython3",
   "version": "3.6.4"
  }
 },
 "nbformat": 4,
 "nbformat_minor": 2
}
