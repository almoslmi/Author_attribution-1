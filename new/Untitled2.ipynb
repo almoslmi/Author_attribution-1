{
 "cells": [
  {
   "cell_type": "code",
   "execution_count": 20,
   "metadata": {},
   "outputs": [
    {
     "name": "stdout",
     "output_type": "stream",
     "text": [
      "svm\n",
      "accuracy         0.842857\n",
      "running_time    59.819047\n",
      "dtype: float64\n",
      "\n",
      "\n",
      "RandomForest\n",
      "accuracy          0.915714\n",
      "running_time    149.160783\n",
      "dtype: float64\n",
      "\n",
      "\n",
      "knn\n",
      "accuracy        0.786429\n",
      "running_time    7.925104\n",
      "dtype: float64\n",
      "\n",
      "\n",
      "LogisticRegression\n",
      "accuracy         0.906000\n",
      "running_time    24.344907\n",
      "dtype: float64\n",
      "\n",
      "\n",
      "NaiveBayes\n",
      "accuracy        0.903500\n",
      "running_time    0.269966\n",
      "dtype: float64\n",
      "\n",
      "\n"
     ]
    }
   ],
   "source": [
    "import pandas as pd\n",
    "bow = pd.read_csv(\"bag of words/results for 5 authors\")\n",
    "\n",
    "for x in range(5):\n",
    "    index=[5*i+x for i in range(20)]\n",
    "    temp=bow.iloc[index]\n",
    "    print(temp.iloc[index[0]][0])\n",
    "    print(temp.mean())\n",
    "    print(\"\\n\")\n",
    "    "
   ]
  },
  {
   "cell_type": "code",
   "execution_count": 21,
   "metadata": {},
   "outputs": [
    {
     "name": "stdout",
     "output_type": "stream",
     "text": [
      "svm\n",
      "accuracy         0.900714\n",
      "running_time    23.464618\n",
      "dtype: float64\n",
      "\n",
      "\n",
      "RandomForest\n",
      "accuracy          0.917857\n",
      "running_time    156.671698\n",
      "dtype: float64\n",
      "\n",
      "\n",
      "knn\n",
      "accuracy        0.757857\n",
      "running_time    3.147638\n",
      "dtype: float64\n",
      "\n",
      "\n",
      "LogisticRegression\n",
      "accuracy         0.905000\n",
      "running_time    26.535224\n",
      "dtype: float64\n",
      "\n",
      "\n",
      "NaiveBayes\n",
      "accuracy        0.927500\n",
      "running_time    0.204257\n",
      "dtype: float64\n",
      "\n",
      "\n"
     ]
    }
   ],
   "source": [
    "bow = pd.read_csv(\"bigrams/results for 5 authors\")\n",
    "\n",
    "for x in range(5):\n",
    "    index=[5*i+x for i in range(20)]\n",
    "    temp=bow.iloc[index]\n",
    "    print(temp.iloc[index[0]][0])\n",
    "    print(temp.mean())\n",
    "    print(\"\\n\")"
   ]
  },
  {
   "cell_type": "code",
   "execution_count": 23,
   "metadata": {},
   "outputs": [
    {
     "name": "stdout",
     "output_type": "stream",
     "text": [
      "svm\n",
      "accuracy         0.897857\n",
      "running_time    95.121789\n",
      "dtype: float64\n",
      "\n",
      "\n",
      "RandomForest\n",
      "accuracy          0.934286\n",
      "running_time    144.248321\n",
      "dtype: float64\n",
      "\n",
      "\n",
      "knn\n",
      "accuracy         0.757857\n",
      "running_time    12.414351\n",
      "dtype: float64\n",
      "\n",
      "\n",
      "LogisticRegression\n",
      "accuracy         0.921000\n",
      "running_time    36.372542\n",
      "dtype: float64\n",
      "\n",
      "\n",
      "NaiveBayes\n",
      "accuracy        0.941000\n",
      "running_time    0.316314\n",
      "dtype: float64\n",
      "\n",
      "\n"
     ]
    }
   ],
   "source": [
    "bow = pd.read_csv(\"trigrams/results for 5 authors\")\n",
    "\n",
    "for x in range(5):\n",
    "    index=[5*i+x for i in range(20)]\n",
    "    temp=bow.iloc[index]\n",
    "    print(temp.iloc[index[0]][0])\n",
    "    print(temp.mean())\n",
    "    print(\"\\n\")"
   ]
  },
  {
   "cell_type": "code",
   "execution_count": 26,
   "metadata": {},
   "outputs": [
    {
     "name": "stdout",
     "output_type": "stream",
     "text": [
      "svm\n",
      "accuracy          0.879286\n",
      "running_time    112.438490\n",
      "dtype: float64\n",
      "\n",
      "\n",
      "RandomForest\n",
      "accuracy          0.914286\n",
      "running_time    134.785073\n",
      "dtype: float64\n",
      "\n",
      "\n",
      "knn\n",
      "accuracy         0.739286\n",
      "running_time    14.157926\n",
      "dtype: float64\n",
      "\n",
      "\n",
      "LogisticRegression\n",
      "accuracy         0.889500\n",
      "running_time    56.129848\n",
      "dtype: float64\n",
      "\n",
      "\n",
      "NaiveBayes\n",
      "accuracy        0.903500\n",
      "running_time    0.324675\n",
      "dtype: float64\n",
      "\n",
      "\n"
     ]
    }
   ],
   "source": [
    "bow = pd.read_csv(\"bi_trigrams/results for 5 authors\")\n",
    "\n",
    "for x in range(5):\n",
    "    index=[5*i+x for i in range(20)]\n",
    "    temp=bow.iloc[index]\n",
    "    print(temp.iloc[index[0]][0])\n",
    "    print(temp.mean())\n",
    "    print(\"\\n\")"
   ]
  },
  {
   "cell_type": "code",
   "execution_count": 27,
   "metadata": {},
   "outputs": [
    {
     "name": "stdout",
     "output_type": "stream",
     "text": [
      "svm\n",
      "accuracy        0.832857\n",
      "running_time    1.557903\n",
      "dtype: float64\n",
      "\n",
      "\n",
      "RandomForest\n",
      "accuracy         0.820000\n",
      "running_time    65.640865\n",
      "dtype: float64\n",
      "\n",
      "\n",
      "knn\n",
      "accuracy        0.747143\n",
      "running_time    0.277490\n",
      "dtype: float64\n",
      "\n",
      "\n",
      "LogisticRegression\n",
      "accuracy        0.826000\n",
      "running_time    0.891047\n",
      "dtype: float64\n",
      "\n",
      "\n",
      "NaiveBayes\n",
      "accuracy        0.844500\n",
      "running_time    0.027608\n",
      "dtype: float64\n",
      "\n",
      "\n"
     ]
    }
   ],
   "source": [
    "bow = pd.read_csv(\"function_words/results for 5 authors\")\n",
    "\n",
    "for x in range(5):\n",
    "    index=[5*i+x for i in range(20)]\n",
    "    temp=bow.iloc[index]\n",
    "    print(temp.iloc[index[0]][0])\n",
    "    print(temp.mean())\n",
    "    print(\"\\n\")"
   ]
  },
  {
   "cell_type": "code",
   "execution_count": 28,
   "metadata": {},
   "outputs": [
    {
     "name": "stdout",
     "output_type": "stream",
     "text": [
      "svm\n",
      "accuracy         0.897143\n",
      "running_time    17.634523\n",
      "dtype: float64\n",
      "\n",
      "\n",
      "RandomForest\n",
      "accuracy         0.916429\n",
      "running_time    70.855143\n",
      "dtype: float64\n",
      "\n",
      "\n",
      "knn\n",
      "accuracy        0.728571\n",
      "running_time    2.179235\n",
      "dtype: float64\n",
      "\n",
      "\n",
      "LogisticRegression\n",
      "accuracy        0.894000\n",
      "running_time    6.988173\n",
      "dtype: float64\n",
      "\n",
      "\n",
      "NaiveBayes\n",
      "accuracy        0.916500\n",
      "running_time    0.063821\n",
      "dtype: float64\n",
      "\n",
      "\n"
     ]
    }
   ],
   "source": [
    "bow = pd.read_csv(\"function_words and trigrams/results for 5 authors\")\n",
    "\n",
    "for x in range(5):\n",
    "    index=[5*i+x for i in range(20)]\n",
    "    temp=bow.iloc[index]\n",
    "    print(temp.iloc[index[0]][0])\n",
    "    print(temp.mean())\n",
    "    print(\"\\n\")"
   ]
  },
  {
   "cell_type": "code",
   "execution_count": null,
   "metadata": {},
   "outputs": [],
   "source": []
  }
 ],
 "metadata": {
  "kernelspec": {
   "display_name": "Python 3",
   "language": "python",
   "name": "python3"
  },
  "language_info": {
   "codemirror_mode": {
    "name": "ipython",
    "version": 3
   },
   "file_extension": ".py",
   "mimetype": "text/x-python",
   "name": "python",
   "nbconvert_exporter": "python",
   "pygments_lexer": "ipython3",
   "version": "3.6.4"
  }
 },
 "nbformat": 4,
 "nbformat_minor": 2
}
