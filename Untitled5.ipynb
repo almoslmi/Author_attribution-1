{
 "cells": [
  {
   "cell_type": "code",
   "execution_count": 5,
   "metadata": {},
   "outputs": [],
   "source": [
    "class node:\n",
    "    def __init__(self,data):\n",
    "        self.data=data\n",
    "        self.left=None\n",
    "        self.right=None"
   ]
  },
  {
   "cell_type": "code",
   "execution_count": 72,
   "metadata": {},
   "outputs": [],
   "source": [
    "class Binary_tree:\n",
    "    def __init__(self):\n",
    "        self.root=None\n",
    "        \n",
    "    def insert(self,root,data):\n",
    "        \n",
    "        if(root==None):\n",
    "            root.data=data\n",
    "            \n",
    "            \n",
    "        elif(data<root.data):\n",
    "            print(\"left\")\n",
    "            self.insert(root.left,data)\n",
    "        else:\n",
    "            print(\"right\")\n",
    "            self.insert(root.right,data)\n",
    "            \n",
    "    def print_tree(self,root):\n",
    "        print(root.data)\n",
    "        if(root.left!=None):\n",
    "            self.print_tree(root.left)\n",
    "        if(root.right!=None):\n",
    "            self.print_tree(root.right)"
   ]
  },
  {
   "cell_type": "code",
   "execution_count": 73,
   "metadata": {},
   "outputs": [],
   "source": [
    "tree=Binary_tree()\n"
   ]
  },
  {
   "cell_type": "code",
   "execution_count": 81,
   "metadata": {},
   "outputs": [],
   "source": [
    "class TreeNode:\n",
    "    def __init__(self, value):\n",
    "        self.left = None;\n",
    "        self.right = None;\n",
    "        self.data = value;\n",
    "\n",
    "class Tree:\n",
    "    def __init__(self):\n",
    "        self.root = None;\n",
    "        \n",
    "    def LLrotate(self,node):\n",
    "        \n",
    "\n",
    "    def addNode(self, node, value):\n",
    "        if(node==None):\n",
    "            self.root = TreeNode(value);\n",
    "        else:\n",
    "            if(value<node.data):\n",
    "                if(node.left==None):\n",
    "                    node.left = TreeNode(value)\n",
    "                else:\n",
    "                    self.addNode(node.left, value);\n",
    "            else:\n",
    "                if(node.right==None):\n",
    "                    node.right = TreeNode(value)\n",
    "                else:\n",
    "                    self.addNode(node.right, value);\n",
    "\n",
    "    def printInorder(self, node):\n",
    "        if(node!=None):\n",
    "            self.printInorder(node.left)\n",
    "            print(node.data)\n",
    "            self.printInorder(node.right)\n"
   ]
  },
  {
   "cell_type": "code",
   "execution_count": 83,
   "metadata": {},
   "outputs": [
    {
     "name": "stdout",
     "output_type": "stream",
     "text": [
      "100\n",
      "200\n",
      "300\n"
     ]
    }
   ],
   "source": [
    "\n",
    "testTree = Tree()\n",
    "testTree.addNode(testTree.root, 200)\n",
    "testTree.addNode(testTree.root, 300)\n",
    "testTree.addNode(testTree.root, 100)\n",
    "testTree.printInorder(testTree.root)"
   ]
  },
  {
   "cell_type": "code",
   "execution_count": null,
   "metadata": {},
   "outputs": [],
   "source": []
  }
 ],
 "metadata": {
  "kernelspec": {
   "display_name": "Python 3",
   "language": "python",
   "name": "python3"
  },
  "language_info": {
   "codemirror_mode": {
    "name": "ipython",
    "version": 3
   },
   "file_extension": ".py",
   "mimetype": "text/x-python",
   "name": "python",
   "nbconvert_exporter": "python",
   "pygments_lexer": "ipython3",
   "version": "3.6.4"
  }
 },
 "nbformat": 4,
 "nbformat_minor": 2
}
