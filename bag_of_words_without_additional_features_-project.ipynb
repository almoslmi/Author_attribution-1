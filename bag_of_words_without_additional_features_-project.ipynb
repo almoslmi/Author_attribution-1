{
 "cells": [
  {
   "cell_type": "code",
   "execution_count": 1,
   "metadata": {},
   "outputs": [],
   "source": [
    "from sklearn.feature_extraction.text import CountVectorizer\n",
    "import pandas as pd\n",
    "import os\n",
    "from sklearn import svm, model_selection, tree, preprocessing, metrics\n",
    "from sklearn.ensemble import RandomForestClassifier\n",
    "import codecs\n",
    "from nltk.probability import FreqDist\n",
    "from sklearn import linear_model\n",
    "from sklearn.model_selection import GridSearchCV\n",
    "import helper\n",
    "import scipy.special as sp\n",
    "import random"
   ]
  },
  {
   "cell_type": "code",
   "execution_count": 2,
   "metadata": {
    "scrolled": false
   },
   "outputs": [
    {
     "name": "stdout",
     "output_type": "stream",
     "text": [
      "['Rajesh Yadav', 'anu', 'Virat Choudhary', 'Surendra Mahara', 'prabhakar']\n"
     ]
    }
   ],
   "source": [
    "path='Hindi_train/'\n",
    "svm_scores=[]\n",
    "random_forest_scores=[]\n",
    "svm_times=[]\n",
    "random_forest_times=[]\n",
    "\n",
    "\n",
    "start=chr(0x900)                    # 0x900 is the unicode point of first character of hindi alphabet\n",
    "end=chr(0x97F)                      # 0x900 is the unicode point of last character of hindi alphabet\n",
    "\n",
    "\n",
    "vectorizer=CountVectorizer(token_pattern=\"[\"+start+\"-\"+end+\"]+\",min_df = 0)\n",
    "\n",
    "\n",
    "for i in range(5,6):\n",
    "    iterations=0\n",
    "    x=int(sp.comb(14,i))\n",
    "    if(x>20):\n",
    "        iterations=20\n",
    "    else:\n",
    "        iterations=x\n",
    "        \n",
    "    iterations=1\n",
    "    \n",
    "    x1=0\n",
    "    x2=0\n",
    "    y1=0\n",
    "    y2=0\n",
    "    for a in range(iterations):\n",
    "        random_list=random.sample(range(5),i)\n",
    "        train_data_X,train_data_Y,length=helper.prepare_data(authors_to_consider=random_list,vectorizer=vectorizer,add_features='no',path=path,no_of_authors=i)\n",
    "\n",
    "    \n",
    "        helper.text_normalise(train_data_X,length)  #tf-idf normalisation\n",
    "        helper.feature_normalise(train_data_X)      #normalisation for machine learning algo\n",
    "\n",
    "        a,b,c,d=helper.learn(train_data_X,train_data_Y)\n",
    "        x1+=a\n",
    "        x2+=b\n",
    "        y1+=c\n",
    "        y2+=d\n",
    "        \n",
    "    x1=x1/iterations\n",
    "    x2=x2/iterations\n",
    "    y1=y1/iterations\n",
    "    y2=y2/iterations\n",
    "    \n",
    "    svm_scores+=[x1]\n",
    "    svm_times+=[x2]\n",
    "    random_forest_scores+=[y1]\n",
    "    random_forest_times+=[y2]\n",
    "    \n",
    "\n"
   ]
  },
  {
   "cell_type": "code",
   "execution_count": 3,
   "metadata": {},
   "outputs": [
    {
     "data": {
      "text/plain": [
       "[0.7714285714285715]"
      ]
     },
     "execution_count": 3,
     "metadata": {},
     "output_type": "execute_result"
    }
   ],
   "source": [
    "svm_scores"
   ]
  },
  {
   "cell_type": "code",
   "execution_count": 4,
   "metadata": {},
   "outputs": [
    {
     "data": {
      "text/plain": [
       "[0.8571428571428571]"
      ]
     },
     "execution_count": 4,
     "metadata": {},
     "output_type": "execute_result"
    }
   ],
   "source": [
    "random_forest_scores"
   ]
  },
  {
   "cell_type": "code",
   "execution_count": null,
   "metadata": {},
   "outputs": [],
   "source": []
  },
  {
   "cell_type": "code",
   "execution_count": null,
   "metadata": {},
   "outputs": [],
   "source": []
  },
  {
   "cell_type": "code",
   "execution_count": null,
   "metadata": {},
   "outputs": [],
   "source": []
  },
  {
   "cell_type": "code",
   "execution_count": null,
   "metadata": {},
   "outputs": [],
   "source": []
  },
  {
   "cell_type": "code",
   "execution_count": null,
   "metadata": {},
   "outputs": [],
   "source": []
  },
  {
   "cell_type": "code",
   "execution_count": null,
   "metadata": {},
   "outputs": [],
   "source": []
  },
  {
   "cell_type": "code",
   "execution_count": null,
   "metadata": {},
   "outputs": [],
   "source": []
  },
  {
   "cell_type": "code",
   "execution_count": null,
   "metadata": {},
   "outputs": [],
   "source": []
  },
  {
   "cell_type": "code",
   "execution_count": null,
   "metadata": {},
   "outputs": [],
   "source": []
  }
 ],
 "metadata": {
  "kernelspec": {
   "display_name": "Python 3",
   "language": "python",
   "name": "python3"
  },
  "language_info": {
   "codemirror_mode": {
    "name": "ipython",
    "version": 3
   },
   "file_extension": ".py",
   "mimetype": "text/x-python",
   "name": "python",
   "nbconvert_exporter": "python",
   "pygments_lexer": "ipython3",
   "version": "3.6.4"
  }
 },
 "nbformat": 4,
 "nbformat_minor": 2
}
