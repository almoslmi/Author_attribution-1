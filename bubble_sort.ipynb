{
 "cells": [
  {
   "cell_type": "code",
   "execution_count": 186,
   "metadata": {},
   "outputs": [
    {
     "ename": "SyntaxError",
     "evalue": "invalid syntax (<ipython-input-186-7304a29ca71c>, line 5)",
     "output_type": "error",
     "traceback": [
      "\u001b[0;36m  File \u001b[0;32m\"<ipython-input-186-7304a29ca71c>\"\u001b[0;36m, line \u001b[0;32m5\u001b[0m\n\u001b[0;31m    if(len)\u001b[0m\n\u001b[0m           ^\u001b[0m\n\u001b[0;31mSyntaxError\u001b[0m\u001b[0;31m:\u001b[0m invalid syntax\n"
     ]
    }
   ],
   "source": [
    "\n",
    "        \n",
    "        \n",
    "\n",
    "\n",
    "\n",
    "\n",
    "\n",
    "\n",
    "def insert_avl(root):\n",
    "    \n",
    "\n",
    "def binary_search(array,start,end,x):\n",
    "    if(start==end):\n",
    "        print(array[start]==x)\n",
    "    elif(start<end):\n",
    "        mid=int((end+start)/2)\n",
    "        if(array[mid]==x):\n",
    "            print(\"Element found  at\",mid)\n",
    "            return\n",
    "        else:\n",
    "            if(x>array[mid]):\n",
    "                binary_search(array,mid+1,end,x)\n",
    "            else:\n",
    "                binary_search(array,start,mid-1,x)\n",
    "\n",
    "def mergesort(array,start,end):\n",
    "    print(array[start:end+1])\n",
    "    if(start<end):\n",
    "        mid=(start+end)/2\n",
    "        mid=int(mid)\n",
    "        mergesort(array,start,mid)\n",
    "        mergesort(array,mid+1,end)\n",
    "        merge(array,start,mid,end)\n",
    "\n",
    "def merge(array,start,mid,end):\n",
    "    first=start\n",
    "    second=mid+1\n",
    "    k=0\n",
    "    new_array=[]\n",
    "    print(start,mid,end)\n",
    "    while(first<=mid and second<=end):\n",
    "        if(array[first]<array[second]):\n",
    "            new_array+=[array[first]]\n",
    "            first+=1\n",
    "        else:\n",
    "            new_array+=[array[second]]\n",
    "            second+=1\n",
    "    while(first<=mid):\n",
    "        new_array+=[array[first]]\n",
    "        first+=1\n",
    "    while(second<=end):\n",
    "        new_array+=[array[second]]\n",
    "        second+=1\n",
    "    \n",
    "    i=0\n",
    "    for x in range(start,end+1):\n",
    "        array[x]=new_array[i]\n",
    "        i+=1\n",
    "        \n",
    "    print(array[start:end+1])\n",
    "    \n",
    "\n",
    "    \n",
    "\n",
    "def quicksort(array,start,end):\n",
    "    print(len(array))\n",
    "    if(start<end):\n",
    "        print(end)\n",
    "        pivot=pivot_(array,start,end)\n",
    "        quicksort(array,start,pivot-1)\n",
    "        quicksort(array,pivot+1,end)\n",
    "\n",
    "def pivot_(array,start,end):\n",
    "    print(\"{0}{1}\".format(start,end))\n",
    "    pivot=array[start]\n",
    "    endpoint=end\n",
    "    startpoint=start\n",
    "    while(start<end):\n",
    "        while(start <=endpoint and array[start]<=pivot):\n",
    "            start+=1\n",
    "        while(end>=startpoint and array[end]>pivot):\n",
    "            end-=1\n",
    "        if(start<end):\n",
    "            temp=array[start]\n",
    "            array[start]=array[end]\n",
    "            array[end]=temp\n",
    "    array[startpoint]=array[end]\n",
    "    array[end]=pivot\n",
    "    print(array)\n",
    "    return end\n",
    "\n",
    "def insertion_sort(array):\n",
    "    n=len(array)\n",
    "    i=0\n",
    "    while(i<n-1):\n",
    "        j=i-1\n",
    "        while(array[i]>array[j] and j>=0):\n",
    "            array[j+1]=array[j]\n",
    "            j-=1\n",
    "        array[j+1]=array[i]\n",
    "        i+=1\n",
    "        \n",
    "\n",
    "def bubble_sort(array):\n",
    "    length=len(array)\n",
    "    i=0\n",
    "    while(i<length-1):\n",
    "        j=0\n",
    "        while(j<length-1):\n",
    "            if(array[j]>array[j+1]):\n",
    "                temp=array[j]\n",
    "                array[j]=array[j+1]\n",
    "                array[j+1]=temp\n",
    "            j+=1\n",
    "        i+=1\n",
    "    "
   ]
  },
  {
   "cell_type": "code",
   "execution_count": 171,
   "metadata": {},
   "outputs": [],
   "source": [
    "array=[random.randint(1,50) for x in range(10)]"
   ]
  },
  {
   "cell_type": "code",
   "execution_count": 184,
   "metadata": {},
   "outputs": [
    {
     "data": {
      "text/plain": [
       "[10, 18, 19, 21, 26, 35, 35, 36, 38, 38]"
      ]
     },
     "execution_count": 184,
     "metadata": {},
     "output_type": "execute_result"
    }
   ],
   "source": [
    "array"
   ]
  },
  {
   "cell_type": "code",
   "execution_count": 182,
   "metadata": {},
   "outputs": [],
   "source": [
    "array.sort()"
   ]
  },
  {
   "cell_type": "code",
   "execution_count": 185,
   "metadata": {},
   "outputs": [
    {
     "name": "stdout",
     "output_type": "stream",
     "text": [
      "Element found  at 8\n"
     ]
    }
   ],
   "source": [
    "binary_search(array,0,9,38)"
   ]
  },
  {
   "cell_type": "code",
   "execution_count": 285,
   "metadata": {},
   "outputs": [],
   "source": [
    "import numpy as nplen\n",
    "class node:\n",
    "    ''' I am a tree node'''\n",
    "    \n",
    "    def __init__(self):\n",
    "        self.left=None\n",
    "        self.right=None\n",
    "        \n",
    "    def __str__(cls):\n",
    "        return (\"Tree node\")\n",
    "    \n",
    "    def __eq__(cls,a,b):\n",
    "        return 1==1\n",
    "    \n",
    "        "
   ]
  }
 ],
 "metadata": {
  "kernelspec": {
   "display_name": "Python 3",
   "language": "python",
   "name": "python3"
  },
  "language_info": {
   "codemirror_mode": {
    "name": "ipython",
    "version": 3
   },
   "file_extension": ".py",
   "mimetype": "text/x-python",
   "name": "python",
   "nbconvert_exporter": "python",
   "pygments_lexer": "ipython3",
   "version": "3.6.4"
  }
 },
 "nbformat": 4,
 "nbformat_minor": 2
}
