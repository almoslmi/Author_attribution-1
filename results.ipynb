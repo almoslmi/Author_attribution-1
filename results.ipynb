{
 "cells": [
  {
   "cell_type": "code",
   "execution_count": 1,
   "metadata": {},
   "outputs": [
    {
     "name": "stdout",
     "output_type": "stream",
     "text": [
      "svm\n",
      "82.08 +- 7.72\n",
      "7.720917892285552\n",
      "\n",
      "\n",
      "RandomForest\n",
      "89.08 +- 4.51\n",
      "4.5071418310698945\n",
      "\n",
      "\n",
      "knn\n",
      "75.5 +- 8.11\n",
      "8.112873316544048\n",
      "\n",
      "\n",
      "LogisticRegression\n",
      "86.35 +- 5.63\n",
      "5.631443677667109\n",
      "\n",
      "\n",
      "NaiveBayes\n",
      "88.2 +- 7.24\n",
      "7.237330127085613\n",
      "\n",
      "\n"
     ]
    },
    {
     "data": {
      "text/plain": [
       "<matplotlib.figure.Figure at 0x7f488c516ef0>"
      ]
     },
     "metadata": {},
     "output_type": "display_data"
    }
   ],
   "source": [
    "import pandas as pd\n",
    "import matplotlib.pyplot as plt\n",
    "import numpy as np    \n",
    "\n",
    "\n",
    "\n",
    "#plt.plot([x for x in range(3,15)],random_forest_scores)\n",
    "\n",
    "bow = pd.read_csv(\"bag of words/results for 5 authors\")\n",
    "\n",
    "algo_name=[]\n",
    "algo_scores=[]\n",
    "for x in range(5):\n",
    "    index=[5*i+x for i in range(20)]\n",
    "    temp=bow.iloc[index]\n",
    "    print(temp.iloc[index[0]][0])\n",
    "    temp.iloc[index[0]][0]\n",
    "    algo_name+=[temp.iloc[index[0]][0]]\n",
    "    \n",
    "    print(str(round(temp.mean()[0]*100,2))+\" +- \"+str(round(temp.std()[0]*100,2)))\n",
    "    algo_scores+=[temp.mean()[0]*100-round(temp.std()[0]*100,2)]\n",
    "    print(temp.std()[0]*100)\n",
    "    \n",
    "    print(\"\\n\")\n",
    "\n",
    "\n",
    "\n",
    "algo_scores=np.array(algo_scores)\n",
    "max_index=np.argmax(algo_scores)\n",
    "\n",
    "plt.figure(figsize=(5,3))\n",
    "plt.suptitle('Bag of words', fontsize=20)\n",
    "graph=plt.bar(algo_name,algo_scores,align='center',label='bag_of_words')\n",
    "graph[max_index].set_color('r')\n",
    "plt.xticks(rotation='vertical')\n",
    "plt.show()\n"
   ]
  },
  {
   "cell_type": "code",
   "execution_count": 2,
   "metadata": {},
   "outputs": [
    {
     "name": "stdout",
     "output_type": "stream",
     "text": [
      "svm\n",
      "89.0 +- 4.06\n",
      "4.060939308851517\n",
      "\n",
      "\n",
      "RandomForest\n",
      "90.08 +- 5.17\n",
      "5.171757537181319\n",
      "\n",
      "\n",
      "knn\n",
      "75.67 +- 7.28\n",
      "7.282920820145901\n",
      "\n",
      "\n",
      "LogisticRegression\n",
      "89.0 +- 5.04\n",
      "5.036707362219051\n",
      "\n",
      "\n",
      "NaiveBayes\n",
      "92.9 +- 5.55\n",
      "5.55261910699522\n",
      "\n",
      "\n"
     ]
    },
    {
     "data": {
      "image/png": "[encoded data removed]",
      "text/plain": [
       "<matplotlib.figure.Figure at 0x7f4861825320>"
      ]
     },
     "metadata": {},
     "output_type": "display_data"
    }
   ],
   "source": [
    "bow = pd.read_csv(\"bigrams/results for 5 authors\")\n",
    "\n",
    "algo_name=[]\n",
    "algo_scores=[]\n",
    "for x in range(5):\n",
    "    index=[5*i+x for i in range(20)]\n",
    "    temp=bow.iloc[index]\n",
    "    print(temp.iloc[index[0]][0])\n",
    "    temp.iloc[index[0]][0]\n",
    "    algo_name+=[temp.iloc[index[0]][0]]\n",
    "    \n",
    "    print(str(round(temp.mean()[0]*100,2))+\" +- \"+str(round(temp.std()[0]*100,2)))\n",
    "    algo_scores+=[temp.mean()[0]*100-round(temp.std()[0]*100,2)]\n",
    "    print(temp.std()[0]*100)\n",
    "    \n",
    "    print(\"\\n\")\n",
    "\n",
    "\n",
    "\n",
    "algo_scores=np.array(algo_scores)\n",
    "max_index=np.argmax(algo_scores)\n",
    "\n",
    "plt.figure(figsize=(5,3))\n",
    "plt.suptitle('Bigrams', fontsize=20)\n",
    "graph=plt.bar(algo_name,algo_scores,align='center',label='bag_of_words')\n",
    "graph[max_index].set_color('r')\n",
    "plt.xticks(rotation='vertical')\n",
    "plt.show()\n",
    "\n"
   ]
  },
  {
   "cell_type": "code",
   "execution_count": 3,
   "metadata": {},
   "outputs": [
    {
     "name": "stdout",
     "output_type": "stream",
     "text": [
      "svm\n",
      "86.83 +- 3.82\n",
      "3.819770055232879\n",
      "\n",
      "\n",
      "RandomForest\n",
      "92.67 +- 3.13\n",
      "3.1250730985602617\n",
      "\n",
      "\n",
      "knn\n",
      "76.33 +- 7.85\n",
      "7.847225456708955\n",
      "\n",
      "\n",
      "LogisticRegression\n",
      "90.5 +- 4.9\n",
      "4.904348231819125\n",
      "\n",
      "\n",
      "NaiveBayes\n",
      "94.65 +- 3.99\n",
      "3.99044912391153\n",
      "\n",
      "\n"
     ]
    },
    {
     "data": {
      "image/png": "[encoded data removed]",
      "text/plain": [
       "<matplotlib.figure.Figure at 0x7f488c51ba58>"
      ]
     },
     "metadata": {},
     "output_type": "display_data"
    }
   ],
   "source": [
    "bow = pd.read_csv(\"trigrams/results for 5 authors\")\n",
    "\n",
    "algo_name=[]\n",
    "algo_scores=[]\n",
    "for x in range(5):\n",
    "    index=[5*i+x for i in range(20)]\n",
    "    temp=bow.iloc[index]\n",
    "    print(temp.iloc[index[0]][0])\n",
    "    temp.iloc[index[0]][0]\n",
    "    algo_name+=[temp.iloc[index[0]][0]]\n",
    "    \n",
    "    print(str(round(temp.mean()[0]*100,2))+\" +- \"+str(round(temp.std()[0]*100,2)))\n",
    "    algo_scores+=[temp.mean()[0]*100-round(temp.std()[0]*100,2)]\n",
    "    print(temp.std()[0]*100)\n",
    "    \n",
    "    print(\"\\n\")\n",
    "\n",
    "\n",
    "\n",
    "algo_scores=np.array(algo_scores)\n",
    "max_index=np.argmax(algo_scores)\n",
    "\n",
    "plt.figure(figsize=(5,3))\n",
    "plt.suptitle('Trigrams', fontsize=20)\n",
    "graph=plt.bar(algo_name,algo_scores,align='center',label='bag_of_words')\n",
    "graph[max_index].set_color('r')\n",
    "plt.xticks(rotation='vertical')\n",
    "plt.show()\n",
    "\n"
   ]
  },
  {
   "cell_type": "code",
   "execution_count": 4,
   "metadata": {},
   "outputs": [
    {
     "name": "stdout",
     "output_type": "stream",
     "text": [
      "svm\n",
      "88.83 +- 4.4\n",
      "4.396303604178963\n",
      "\n",
      "\n",
      "RandomForest\n",
      "92.75 +- 3.35\n",
      "3.345372993828377\n",
      "\n",
      "\n",
      "knn\n",
      "76.58 +- 7.52\n",
      "7.521411930409115\n",
      "\n",
      "\n",
      "LogisticRegression\n",
      "89.6 +- 5.35\n",
      "5.354781434430944\n",
      "\n",
      "\n",
      "NaiveBayes\n",
      "92.4 +- 5.11\n",
      "5.113449757360742\n",
      "\n",
      "\n"
     ]
    },
    {
     "data": {
      "image/png": "[encoded data removed]",
      "text/plain": [
       "<matplotlib.figure.Figure at 0x7f486188b5c0>"
      ]
     },
     "metadata": {},
     "output_type": "display_data"
    }
   ],
   "source": [
    "bow = pd.read_csv(\"bi_trigrams/results for 5 authors\")\n",
    "\n",
    "algo_name=[]\n",
    "algo_scores=[]\n",
    "for x in range(5):\n",
    "    index=[5*i+x for i in range(20)]\n",
    "    temp=bow.iloc[index]\n",
    "    print(temp.iloc[index[0]][0])\n",
    "    temp.iloc[index[0]][0]\n",
    "    algo_name+=[temp.iloc[index[0]][0]]\n",
    "    \n",
    "    print(str(round(temp.mean()[0]*100,2))+\" +- \"+str(round(temp.std()[0]*100,2)))\n",
    "    algo_scores+=[temp.mean()[0]*100-round(temp.std()[0]*100,2)]\n",
    "    print(temp.std()[0]*100)\n",
    "    \n",
    "    print(\"\\n\")\n",
    "\n",
    "\n",
    "\n",
    "algo_scores=np.array(algo_scores)\n",
    "max_index=np.argmax(algo_scores)\n",
    "\n",
    "plt.figure(figsize=(5,3))\n",
    "plt.suptitle('Bigrams and trigrams', fontsize=20)\n",
    "graph=plt.bar(algo_name,algo_scores,align='center',label='bag_of_words')\n",
    "graph[max_index].set_color('r')\n",
    "plt.xticks(rotation='vertical')\n",
    "plt.show()\n",
    "\n"
   ]
  },
  {
   "cell_type": "code",
   "execution_count": 5,
   "metadata": {},
   "outputs": [
    {
     "name": "stdout",
     "output_type": "stream",
     "text": [
      "svm\n",
      "82.67 +- 7.12\n",
      "7.1205164409588235\n",
      "\n",
      "\n",
      "RandomForest\n",
      "83.17 +- 7.35\n",
      "7.35284485661027\n",
      "\n",
      "\n",
      "knn\n",
      "76.42 +- 5.98\n",
      "5.979374881758812\n",
      "\n",
      "\n",
      "LogisticRegression\n",
      "83.9 +- 7.72\n",
      "7.71805811410044\n",
      "\n",
      "\n",
      "NaiveBayes\n",
      "87.0 +- 7.33\n",
      "7.326950970650463\n",
      "\n",
      "\n"
     ]
    },
    {
     "data": {
      "image/png": "[encoded data removed]",
      "text/plain": [
       "<matplotlib.figure.Figure at 0x7f486188bef0>"
      ]
     },
     "metadata": {},
     "output_type": "display_data"
    }
   ],
   "source": [
    "bow = pd.read_csv(\"function_words/results for 5 authors\")\n",
    "\n",
    "algo_name=[]\n",
    "algo_scores=[]\n",
    "\n",
    "for x in range(5):\n",
    "    index=[5*i+x for i in range(20)]\n",
    "    temp=bow.iloc[index]\n",
    "    print(temp.iloc[index[0]][0])\n",
    "    temp.iloc[index[0]][0]\n",
    "    algo_name+=[temp.iloc[index[0]][0]]\n",
    "    \n",
    "    print(str(round(temp.mean()[0]*100,2))+\" +- \"+str(round(temp.std()[0]*100,2)))\n",
    "    algo_scores+=[temp.mean()[0]*100-round(temp.std()[0]*100,2)]\n",
    "    print(temp.std()[0]*100)\n",
    "    \n",
    "    print(\"\\n\")\n",
    "\n",
    "\n",
    "\n",
    "\n",
    "algo_scores=np.array(algo_scores)\n",
    "max_index=np.argmax(algo_scores)\n",
    "\n",
    "plt.figure(figsize=(5,3))\n",
    "plt.suptitle('Function words', fontsize=20)\n",
    "graph=plt.bar(algo_name,algo_scores,align='center',label='bag_of_words')\n",
    "graph[max_index].set_color('r')\n",
    "plt.xticks(rotation='vertical')\n",
    "plt.show()\n",
    "\n"
   ]
  },
  {
   "cell_type": "code",
   "execution_count": 6,
   "metadata": {},
   "outputs": [
    {
     "name": "stdout",
     "output_type": "stream",
     "text": [
      "svm\n",
      "88.17 +- 4.92\n",
      "4.923389694293082\n",
      "\n",
      "\n",
      "RandomForest\n",
      "91.83 +- 2.64\n",
      "2.6435400684625976\n",
      "\n",
      "\n",
      "knn\n",
      "77.0 +- 7.23\n",
      "7.2264944628929335\n",
      "\n",
      "\n",
      "LogisticRegression\n",
      "88.6 +- 3.87\n",
      "3.8716241661879494\n",
      "\n",
      "\n",
      "NaiveBayes\n",
      "92.7 +- 3.91\n",
      "3.908156113888789\n",
      "\n",
      "\n"
     ]
    },
    {
     "data": {
      "image/png": "[encoded data removed]",
      "text/plain": [
       "<matplotlib.figure.Figure at 0x7f48617170b8>"
      ]
     },
     "metadata": {},
     "output_type": "display_data"
    }
   ],
   "source": [
    "bow = pd.read_csv(\"function_words_and_trigrams/results for 5 authors\")\n",
    "\n",
    "algo_name=[]\n",
    "algo_scores=[]\n",
    "for x in range(5):\n",
    "    index=[5*i+x for i in range(20)]\n",
    "    temp=bow.iloc[index]\n",
    "    print(temp.iloc[index[0]][0])\n",
    "    temp.iloc[index[0]][0]\n",
    "    algo_name+=[temp.iloc[index[0]][0]]\n",
    "    \n",
    "    print(str(round(temp.mean()[0]*100,2))+\" +- \"+str(round(temp.std()[0]*100,2)))\n",
    "    algo_scores+=[temp.mean()[0]*100-round(temp.std()[0]*100,2)]\n",
    "    print(temp.std()[0]*100)\n",
    "    \n",
    "    print(\"\\n\")\n",
    "\n",
    "\n",
    "\n",
    "algo_scores=np.array(algo_scores)\n",
    "max_index=np.argmax(algo_scores)\n",
    "\n",
    "plt.figure(figsize=(5,3))\n",
    "plt.suptitle('Function words and trigrams', fontsize=20)\n",
    "graph=plt.bar(algo_name,algo_scores,align='center',label='bag_of_words')\n",
    "graph[max_index].set_color('r')\n",
    "plt.xticks(rotation='vertical')\n",
    "plt.show()\n",
    "\n",
    "\n"
   ]
  },
  {
   "cell_type": "code",
   "execution_count": 7,
   "metadata": {},
   "outputs": [
    {
     "name": "stdout",
     "output_type": "stream",
     "text": [
      "svm\n",
      "75.42 +- 9.94\n",
      "9.939510030636459\n",
      "\n",
      "\n",
      "RandomForest\n",
      "72.0 +- 10.27\n",
      "10.268329780993014\n",
      "\n",
      "\n",
      "knn\n",
      "58.08 +- 12.97\n",
      "12.969543720867183\n",
      "\n",
      "\n",
      "LogisticRegression\n",
      "75.75 +- 9.26\n",
      "9.26155039879791\n",
      "\n",
      "\n",
      "NaiveBayes\n",
      "81.7 +- 8.05\n",
      "8.046574949694602\n",
      "\n",
      "\n"
     ]
    },
    {
     "data": {
      "image/png": "[encoded data removed]",
      "text/plain": [
       "<matplotlib.figure.Figure at 0x7f48616996d8>"
      ]
     },
     "metadata": {},
     "output_type": "display_data"
    }
   ],
   "source": [
    "bow = pd.read_csv(\"pos_tagging/results for 5 authors\")\n",
    "\n",
    "algo_name=[]\n",
    "algo_scores=[]\n",
    "for x in range(5):\n",
    "    index=[5*i+x for i in range(20)]\n",
    "    temp=bow.iloc[index]\n",
    "    print(temp.iloc[index[0]][0])\n",
    "    temp.iloc[index[0]][0]\n",
    "    algo_name+=[temp.iloc[index[0]][0]]\n",
    "    \n",
    "    print(str(round(temp.mean()[0]*100,2))+\" +- \"+str(round(temp.std()[0]*100,2)))\n",
    "    algo_scores+=[temp.mean()[0]*100-round(temp.std()[0]*100,2)]\n",
    "    print(temp.std()[0]*100)\n",
    "    \n",
    "    print(\"\\n\")\n",
    "\n",
    "\n",
    "algo_scores=np.array(algo_scores)\n",
    "max_index=np.argmax(algo_scores)\n",
    "\n",
    "plt.figure(figsize=(5,3))\n",
    "plt.suptitle('POS tagging', fontsize=20)\n",
    "graph=plt.bar(algo_name,algo_scores,align='center',label='bag_of_words')\n",
    "graph[max_index].set_color('r')\n",
    "plt.xticks(rotation='vertical')\n",
    "plt.show()\n"
   ]
  },
  {
   "cell_type": "code",
   "execution_count": 8,
   "metadata": {},
   "outputs": [
    {
     "name": "stdout",
     "output_type": "stream",
     "text": [
      "svm\n",
      "72.67 +- 5.14\n",
      "5.136652370434913\n",
      "\n",
      "\n",
      "RandomForest\n",
      "76.14 +- 6.07\n",
      "6.0695471081018875\n",
      "\n",
      "\n",
      "knn\n",
      "42.45 +- 8.99\n",
      "8.989525161768992\n",
      "\n",
      "\n",
      "LogisticRegression\n",
      "49.77 +- 10.34\n",
      "10.34441963301275\n",
      "\n",
      "\n",
      "NaiveBayes\n",
      "39.18 +- 7.67\n",
      "7.674271590479741\n",
      "\n",
      "\n"
     ]
    },
    {
     "data": {
      "image/png": "[encoded data removed]",
      "text/plain": [
       "<matplotlib.figure.Figure at 0x7f486165aef0>"
      ]
     },
     "metadata": {},
     "output_type": "display_data"
    }
   ],
   "source": [
    "bow = pd.read_csv(\"secondary_features/results for 5 authors\")\n",
    "\n",
    "algo_name=[]\n",
    "algo_scores=[]\n",
    "for x in range(5):\n",
    "    index=[5*i+x for i in range(20)]\n",
    "    temp=bow.iloc[index]\n",
    "    print(temp.iloc[index[0]][0])\n",
    "    temp.iloc[index[0]][0]\n",
    "    algo_name+=[temp.iloc[index[0]][0]]\n",
    "    \n",
    "    print(str(round(temp.mean()[0]*100,2))+\" +- \"+str(round(temp.std()[0]*100,2)))\n",
    "    algo_scores+=[temp.mean()[0]*100-round(temp.std()[0]*100,2)]\n",
    "    print(temp.std()[0]*100)\n",
    "    \n",
    "    print(\"\\n\")\n",
    "\n",
    "\n",
    "algo_scores=np.array(algo_scores)\n",
    "max_index=np.argmax(algo_scores)\n",
    "\n",
    "plt.figure(figsize=(5,3))\n",
    "plt.suptitle('Secondary features', fontsize=20)\n",
    "graph=plt.bar(algo_name,algo_scores,align='center',label='bag_of_words')\n",
    "graph[max_index].set_color('r')\n",
    "plt.xticks(rotation='vertical')\n",
    "plt.show()\n"
   ]
  },
  {
   "cell_type": "code",
   "execution_count": 9,
   "metadata": {},
   "outputs": [
    {
     "name": "stdout",
     "output_type": "stream",
     "text": [
      "svm\n",
      "86.58 +- 6.13\n",
      "6.129093691051247\n",
      "\n",
      "\n",
      "RandomForest\n",
      "90.0 +- 3.59\n",
      "3.586850578993132\n",
      "\n",
      "\n",
      "knn\n",
      "37.92 +- 8.25\n",
      "8.251794063302713\n",
      "\n",
      "\n",
      "LogisticRegression\n",
      "86.3 +- 5.78\n",
      "5.77745163272018\n",
      "\n",
      "\n",
      "NaiveBayes\n",
      "89.0 +- 5.37\n",
      "5.370484639504883\n",
      "\n",
      "\n"
     ]
    },
    {
     "data": {
      "image/png": "[encoded data removed]",
      "text/plain": [
       "<matplotlib.figure.Figure at 0x7f48615dd5f8>"
      ]
     },
     "metadata": {},
     "output_type": "display_data"
    }
   ],
   "source": [
    "bow = pd.read_csv(\"trigrams_and_secondary_features/results for 5 authors\")\n",
    "\n",
    "algo_name=[]\n",
    "algo_scores=[]\n",
    "for x in range(5):\n",
    "    index=[5*i+x for i in range(20)]\n",
    "    temp=bow.iloc[index]\n",
    "    print(temp.iloc[index[0]][0])\n",
    "    temp.iloc[index[0]][0]\n",
    "    algo_name+=[temp.iloc[index[0]][0]]\n",
    "    \n",
    "    print(str(round(temp.mean()[0]*100,2))+\" +- \"+str(round(temp.std()[0]*100,2)))\n",
    "    algo_scores+=[temp.mean()[0]*100-round(temp.std()[0]*100,2)]\n",
    "    print(temp.std()[0]*100)\n",
    "    \n",
    "    print(\"\\n\")\n",
    "\n",
    "\n",
    "algo_scores=np.array(algo_scores)\n",
    "max_index=np.argmax(algo_scores)\n",
    "\n",
    "plt.figure(figsize=(5,3))\n",
    "plt.suptitle('Secondary features', fontsize=20)\n",
    "graph=plt.bar(algo_name,algo_scores,align='center',label='bag_of_words')\n",
    "graph[max_index].set_color('r')\n",
    "plt.xticks(rotation='vertical')\n",
    "plt.show()"
   ]
  },
  {
   "cell_type": "code",
   "execution_count": null,
   "metadata": {},
   "outputs": [],
   "source": []
  }
 ],
 "metadata": {
  "kernelspec": {
   "display_name": "Python 3",
   "language": "python",
   "name": "python3"
  },
  "language_info": {
   "codemirror_mode": {
    "name": "ipython",
    "version": 3
   },
   "file_extension": ".py",
   "mimetype": "text/x-python",
   "name": "python",
   "nbconvert_exporter": "python",
   "pygments_lexer": "ipython3",
   "version": "3.6.4"
  }
 },
 "nbformat": 4,
 "nbformat_minor": 2
}
