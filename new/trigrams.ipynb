{
 "cells": [
  {
   "cell_type": "code",
   "execution_count": 1,
   "metadata": {
    "scrolled": true
   },
   "outputs": [],
   "source": [
    "from sklearn.feature_extraction.text import CountVectorizer\n",
    "import pandas as pd\n",
    "import os\n",
    "from sklearn import svm, model_selection, tree, preprocessing, metrics\n",
    "from sklearn.ensemble import RandomForestClassifier\n",
    "import codecs\n",
    "from nltk.probability import FreqDist\n",
    "from sklearn import linear_model\n",
    "from sklearn.model_selection import GridSearchCV\n",
    "import helper\n",
    "import scipy.special as sp\n",
    "import random\n",
    "\n",
    "\n",
    "path='Hindi_train/'\n",
    "\n",
    "\n",
    "vectorizer=CountVectorizer(analyzer='char_wb', ngram_range=(3,3), min_df= 0)\n",
    "\n",
    "\n",
    "for i in range(5,6):\n",
    "    try:\n",
    "        os.mkdir('trigrams')\n",
    "    except FileExistsError:\n",
    "         pass\n",
    "        \n",
    "        \n",
    "    \n",
    "    file=open('trigrams/results for '+str(i)+' authors','w')\n",
    "    iterations=0\n",
    "    x=int(sp.comb(14,i))\n",
    "    if(x>20):\n",
    "        iterations=20\n",
    "    else:\n",
    "        iterations=x\n",
    "        \n",
    "    \n",
    "    x1=0\n",
    "    x2=0\n",
    "    y1=0\n",
    "    y2=0\n",
    "    for a in range(iterations):\n",
    "        random_list=random.sample(range(14),5)\n",
    "        train_data_X,train_data_Y,length=helper.prepare_data(authors_to_consider=random_list,vectorizer=vectorizer,add_features='no',path=path,no_of_authors=i)\n",
    "\n",
    "        helper.text_normalise(train_data_X,length)  #tf-idf normalisation\n",
    "        helper.learn(train_data_X,train_data_Y,file)\n",
    "\n",
    "    \n",
    "    \n",
    "   # helper.mean_accuracy(iterations,file)\n",
    "    file.close()\n",
    "\n",
    "\n",
    "\n",
    "\n",
    "\n",
    "\n",
    "\n",
    "\n",
    "\n",
    "\n",
    "\n",
    "\n",
    "\n",
    "\n",
    "\n"
   ]
  },
  {
   "cell_type": "code",
   "execution_count": null,
   "metadata": {},
   "outputs": [],
   "source": []
  },
  {
   "cell_type": "code",
   "execution_count": null,
   "metadata": {},
   "outputs": [],
   "source": []
  },
  {
   "cell_type": "code",
   "execution_count": null,
   "metadata": {},
   "outputs": [],
   "source": []
  },
  {
   "cell_type": "code",
   "execution_count": null,
   "metadata": {},
   "outputs": [],
   "source": []
  }
 ],
 "metadata": {
  "kernelspec": {
   "display_name": "Python 3",
   "language": "python",
   "name": "python3"
  },
  "language_info": {
   "codemirror_mode": {
    "name": "ipython",
    "version": 3
   },
   "file_extension": ".py",
   "mimetype": "text/x-python",
   "name": "python",
   "nbconvert_exporter": "python",
   "pygments_lexer": "ipython3",
   "version": "3.6.4"
  }
 },
 "nbformat": 4,
 "nbformat_minor": 2
}
