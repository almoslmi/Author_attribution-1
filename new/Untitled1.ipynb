{
 "cells": [
  {
   "cell_type": "code",
   "execution_count": 75,
   "metadata": {},
   "outputs": [],
   "source": [
    "import pandas as pd"
   ]
  },
  {
   "cell_type": "code",
   "execution_count": 76,
   "metadata": {},
   "outputs": [],
   "source": []
  },
  {
   "cell_type": "code",
   "execution_count": 94,
   "metadata": {},
   "outputs": [],
   "source": [
    "def mean_accuracy(iterations,file):\n",
    "    data=pd.read_csv('bag of words/results for 5 authors')\n",
    "\n",
    "    for x in range(5):\n",
    "        index=[5*i+x for i in range (iterations)]\n",
    "        temp=data.iloc[index]\n",
    "        print(temp.iloc[0][0])\n",
    "        print(temp.mean())"
   ]
  },
  {
   "cell_type": "code",
   "execution_count": 95,
   "metadata": {},
   "outputs": [
    {
     "name": "stdout",
     "output_type": "stream",
     "text": [
      "svm\n",
      "accuracy         0.837143\n",
      "running_time    36.027445\n",
      "dtype: float64\n",
      "RandomForest\n",
      "accuracy         0.915714\n",
      "running_time    96.987125\n",
      "dtype: float64\n",
      "knn\n",
      "accuracy        0.754286\n",
      "running_time    3.054379\n",
      "dtype: float64\n",
      "LogisticRegression\n",
      "accuracy        0.898000\n",
      "running_time    6.953946\n",
      "dtype: float64\n",
      "NaiveBayes\n",
      "accuracy        0.893500\n",
      "running_time    0.079309\n",
      "dtype: float64\n"
     ]
    }
   ],
   "source": [
    "mean_accuracy(20,x)"
   ]
  },
  {
   "cell_type": "code",
   "execution_count": null,
   "metadata": {},
   "outputs": [],
   "source": []
  }
 ],
 "metadata": {
  "kernelspec": {
   "display_name": "Python 3",
   "language": "python",
   "name": "python3"
  },
  "language_info": {
   "codemirror_mode": {
    "name": "ipython",
    "version": 3
   },
   "file_extension": ".py",
   "mimetype": "text/x-python",
   "name": "python",
   "nbconvert_exporter": "python",
   "pygments_lexer": "ipython3",
   "version": "3.6.4"
  }
 },
 "nbformat": 4,
 "nbformat_minor": 2
}
